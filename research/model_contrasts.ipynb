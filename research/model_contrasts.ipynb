{
 "cells": [
  {
   "cell_type": "code",
   "execution_count": 1,
   "metadata": {},
   "outputs": [
    {
     "name": "stderr",
     "output_type": "stream",
     "text": [
      "/home/isaid/arkham/failsafe/lib/python3.10/site-packages/tqdm/auto.py:21: TqdmWarning: IProgress not found. Please update jupyter and ipywidgets. See https://ipywidgets.readthedocs.io/en/stable/user_install.html\n",
      "  from .autonotebook import tqdm as notebook_tqdm\n"
     ]
    }
   ],
   "source": [
    "import torch\n",
    "from langchain.embeddings import HuggingFaceEmbeddings\n",
    "from langchain.document_loaders.text import TextLoader\n",
    "from langchain.text_splitter import TokenTextSplitter, RecursiveCharacterTextSplitter \n",
    "from langchain.vectorstores import Chroma\n",
    "from langchain.chains import RetrievalQA\n",
    "from langchain import HuggingFacePipeline,PromptTemplate\n",
    "from transformers import AutoTokenizer,pipeline\n",
    "\n",
    "import evaluate"
   ]
  },
  {
   "cell_type": "markdown",
   "metadata": {},
   "source": [
    "# Falcon7b-Instruct"
   ]
  },
  {
   "cell_type": "markdown",
   "metadata": {},
   "source": [
    "## Define Embeding logic"
   ]
  },
  {
   "cell_type": "code",
   "execution_count": 2,
   "metadata": {},
   "outputs": [],
   "source": [
    "def create_sbert_mpnet():\n",
    "        device = \"cuda\" if torch.cuda.is_available() else \"cpu\"\n",
    "        print(f'Embedding on device: {device}')\n",
    "        return HuggingFaceEmbeddings(model_name='sentence-transformers/all-mpnet-base-v2', model_kwargs={\"device\": device})"
   ]
  },
  {
   "cell_type": "code",
   "execution_count": 3,
   "metadata": {},
   "outputs": [
    {
     "name": "stdout",
     "output_type": "stream",
     "text": [
      "Embedding on device: cuda\n"
     ]
    }
   ],
   "source": [
    "embedding = create_sbert_mpnet()"
   ]
  },
  {
   "cell_type": "code",
   "execution_count": 4,
   "metadata": {},
   "outputs": [
    {
     "data": {
      "text/plain": [
       "{'ids': ['2e774bf6-2a30-11ee-9a76-394bc61c6320',\n",
       "  '2e774bf7-2a30-11ee-9a76-394bc61c6320',\n",
       "  '2e774bf8-2a30-11ee-9a76-394bc61c6320',\n",
       "  '2e774bf9-2a30-11ee-9a76-394bc61c6320',\n",
       "  '2e774bfa-2a30-11ee-9a76-394bc61c6320',\n",
       "  '2e774bfb-2a30-11ee-9a76-394bc61c6320',\n",
       "  '2e774bfc-2a30-11ee-9a76-394bc61c6320',\n",
       "  '2e774bfd-2a30-11ee-9a76-394bc61c6320',\n",
       "  '2e774bfe-2a30-11ee-9a76-394bc61c6320',\n",
       "  '2e774bff-2a30-11ee-9a76-394bc61c6320',\n",
       "  '2e774c00-2a30-11ee-9a76-394bc61c6320',\n",
       "  '2e774c01-2a30-11ee-9a76-394bc61c6320',\n",
       "  '2e774c02-2a30-11ee-9a76-394bc61c6320',\n",
       "  '2e774c03-2a30-11ee-9a76-394bc61c6320',\n",
       "  '2e774c04-2a30-11ee-9a76-394bc61c6320',\n",
       "  '2e774c05-2a30-11ee-9a76-394bc61c6320',\n",
       "  '2e774c06-2a30-11ee-9a76-394bc61c6320',\n",
       "  '2e774c07-2a30-11ee-9a76-394bc61c6320',\n",
       "  '2e774c08-2a30-11ee-9a76-394bc61c6320',\n",
       "  '2e774c09-2a30-11ee-9a76-394bc61c6320',\n",
       "  '2e774c0a-2a30-11ee-9a76-394bc61c6320',\n",
       "  '2e774c0b-2a30-11ee-9a76-394bc61c6320',\n",
       "  '2e774c0c-2a30-11ee-9a76-394bc61c6320',\n",
       "  '2e774c0d-2a30-11ee-9a76-394bc61c6320',\n",
       "  '2e774c0e-2a30-11ee-9a76-394bc61c6320',\n",
       "  '2e774c0f-2a30-11ee-9a76-394bc61c6320',\n",
       "  '2e774c10-2a30-11ee-9a76-394bc61c6320',\n",
       "  '2e774c11-2a30-11ee-9a76-394bc61c6320',\n",
       "  '2e774c12-2a30-11ee-9a76-394bc61c6320',\n",
       "  '2e774c13-2a30-11ee-9a76-394bc61c6320',\n",
       "  '2e774c14-2a30-11ee-9a76-394bc61c6320',\n",
       "  '2e774c15-2a30-11ee-9a76-394bc61c6320',\n",
       "  '2e774c16-2a30-11ee-9a76-394bc61c6320',\n",
       "  '2e774c17-2a30-11ee-9a76-394bc61c6320',\n",
       "  '2e774c18-2a30-11ee-9a76-394bc61c6320',\n",
       "  '2e774c19-2a30-11ee-9a76-394bc61c6320',\n",
       "  '2e774c1a-2a30-11ee-9a76-394bc61c6320',\n",
       "  '2e774c1b-2a30-11ee-9a76-394bc61c6320',\n",
       "  '2e774c1c-2a30-11ee-9a76-394bc61c6320',\n",
       "  '2e774c1d-2a30-11ee-9a76-394bc61c6320',\n",
       "  '2e774c1e-2a30-11ee-9a76-394bc61c6320',\n",
       "  '2e774c1f-2a30-11ee-9a76-394bc61c6320'],\n",
       " 'embeddings': None,\n",
       " 'metadatas': [{'source': 'page1.txt'},\n",
       "  {'source': 'page1.txt'},\n",
       "  {'source': 'page1.txt'},\n",
       "  {'source': 'page1.txt'},\n",
       "  {'source': 'page1.txt'},\n",
       "  {'source': 'page1.txt'},\n",
       "  {'source': 'page1.txt'},\n",
       "  {'source': 'page1.txt'},\n",
       "  {'source': 'page1.txt'},\n",
       "  {'source': 'page1.txt'},\n",
       "  {'source': 'page1.txt'},\n",
       "  {'source': 'page1.txt'},\n",
       "  {'source': 'page1.txt'},\n",
       "  {'source': 'page1.txt'},\n",
       "  {'source': 'page1.txt'},\n",
       "  {'source': 'page1.txt'},\n",
       "  {'source': 'page1.txt'},\n",
       "  {'source': 'page1.txt'},\n",
       "  {'source': 'page1.txt'},\n",
       "  {'source': 'page1.txt'},\n",
       "  {'source': 'page1.txt'},\n",
       "  {'source': 'page1.txt'},\n",
       "  {'source': 'page1.txt'},\n",
       "  {'source': 'page1.txt'},\n",
       "  {'source': 'page1.txt'},\n",
       "  {'source': 'page1.txt'},\n",
       "  {'source': 'page1.txt'},\n",
       "  {'source': 'page1.txt'},\n",
       "  {'source': 'page1.txt'},\n",
       "  {'source': 'page1.txt'},\n",
       "  {'source': 'page1.txt'},\n",
       "  {'source': 'page1.txt'},\n",
       "  {'source': 'page1.txt'},\n",
       "  {'source': 'page1.txt'},\n",
       "  {'source': 'page1.txt'},\n",
       "  {'source': 'page1.txt'},\n",
       "  {'source': 'page1.txt'},\n",
       "  {'source': 'page1.txt'},\n",
       "  {'source': 'page1.txt'},\n",
       "  {'source': 'page1.txt'},\n",
       "  {'source': 'page1.txt'},\n",
       "  {'source': 'page1.txt'}],\n",
       " 'documents': ['CONTRATO MAESTRO NUMERO AP000000718 DE ARRENDAMIENTO DE BIENES MUEBLES (EN LO SUCESIVO DENOMINADO EL',\n",
       "  '“ARRENDAMIENTO MAESTRO”) QUE CELEBRAN POR UNA PARTE AB2C LEASING DE MEXICO, SOCIEDAD ANÓNIMA',\n",
       "  \"PROMOTORA DE INVERSIÓN DE CAPITAL VARIABLE. (EL “ARRENDADOR”, REPRESENTADA POR MARÍA ISABEL BOLIO'\",\n",
       "  'MONTERO Y PABLO ENRIQUE ROMERO GONZÁLEZ , POR OTRA PARTE LA EMPRESA; CRANE SUPPLIES SERVICES S.A.',\n",
       "  'de C.V. REPRESENTADA POR ÓSCAR ALBERTO ISLAS MENDOZA ( “EL ARRENDATARIO” ), POR OTRA PARTE: EN LO',\n",
       "  'PERSONAL Y POR SU PROPIO DERECHO, OSCAR ALBERTO ISLAS MENDOZA (COMO “EL OBLIGADO SOLIDARIO”), POR',\n",
       "  'ULTIMO EN LO PERSONAL Y POR SU PROPIO DERECHO OSCAR ALBERTO ISLAS MENDOZA, COMO (EL DEPOSITARIO”)',\n",
       "  'DE ACUERDO CON LAS SIGUIENTES DECLARACIONES Y CLAUSULAS.',\n",
       "  'DECLARACIONES E. El Arrendador declara, representa y garantiza que:',\n",
       "  'a. Es una Sociedad Anónima Promotora de Inversión de Capital Variable debidamente coristituida.',\n",
       "  'bajo el nombre de Boston Leasing México, S.A. de C.Y., de conformidad a las léyes de lós Estados',\n",
       "  'Unidos Mexicanos, según consta en la Escritura. Pública.20,302 de fecha 8.de Octubre de 1999,',\n",
       "  'otorgada ante la fe del Lic. Alejandro E. Del Valle Palazuelos, Notario Público No. 149 del',\n",
       "  'Distrito Federal, cuyo primer testimonio quedó debidamente inscrito en el Registro Público de',\n",
       "  'Comercio del Distrito Federal bajo el Folio Mercantil No. 257016, el 16 de Noviembre de 1999,',\n",
       "  'b. Mediante Escritura No. 53,174 de fecha 6 de junio de:2005, otorgada ante la fe del Lic.',\n",
       "  'Roberto:Nuñez y Bandera, Notario Público No. 1 de México, Distrito Federal, se protocolizó el Acta',\n",
       "  'de Asamblea General de Accionistas de fecha 6 de junio del 2005, en la cual.se acordó cambiar la',\n",
       "  'denominación social por la de AB8C Leasing de México, S.A. de C.V., y cuyo testimonio quedó',\n",
       "  'debidamente inscrito en el Registro Público de Comercio del Distrito Federal bajo el Folio',\n",
       "  'Mercantil No. 257018 de fectia.22 de agosto del 2005.',\n",
       "  'c. Mediante Escritura: Pública No. 55,344 de fecha 30 de agosto del 2006, otorgada ante la fe del',\n",
       "  'Lic. Roberto Nuñez y Bandera, Notario Público No. 1 de México, Distrito Federal, se protocolizó él',\n",
       "  'Acta de Asamblea General Extraordinaria. de Accionistas de fecha 15 de junio del 2005, en la',\n",
       "  'cual.se acordó cambiar el domicilio social a la Ciudad de Guadalajara, Jálisco, cuyo primer',\n",
       "  \"testimonio quedó debidamente 'iriscrita en el Registro Público de Comercio de Guadalajara, Jalisco\",\n",
       "  'bajo el Folio Mercantil Electrónico No. 39918,',\n",
       "  'd. Mediante Escritura Plíblica número 34,501. treinta y cuatro mil quinientos uno, de fecha 20',\n",
       "  'veinte de octubre del 2011 dos mil once, otorgada ante la fe del Licenciado. Humberto Gascón',\n",
       "  'Orozco, Notario Público número 5 de Tlaquepaque Jalisco. Se protocolizó la Asamblea General',\n",
       "  'Extraordinaria de Accionistas de fecha 31 treinta y uno de agosto del 2011 dos mil once, en la',\n",
       "  'cual. se acordó cambiar la denominación social por la de AB8.C Leasing de México, Sociedad Anónima',\n",
       "  'Promotora de Inversión de Capital Variable.',\n",
       "  'e. Mediante acta número.250 doscientos cincuenta, de fecha 20 veinte de márzo de 2020 dos mil',\n",
       "  'veinte, otorgada ante lá fe del Licericiado Francisco Javier Acevedo Macari, Notario Público número',\n",
       "  '67 sesenta y siete del estado: de. Mérida, Yucatán, se protocolizaron las resoluciones unánimes de',\n",
       "  'accionistas de AB8C Leasing de México, S.A.P.. de CV. consistentes en la ratificación de la',\n",
       "  'celebración del Contrato de Compraventa de Acciones, la ratificación de la trasmisión. de la',\n",
       "  'Titularidad de las Accionés Representativas del Capital Social de la. Sociedad, reforma de',\n",
       "  'estatutos sociales de la sociedad, incluyendo el Cambio de Domicilio Social y Cancelación de',\n",
       "  'Títulos Accionarios, así corno la reclasificación y ratificación del Capital Social de la Sociedad,',\n",
       "  'la renuncia y designación de funcionarios, miembros del']}"
      ]
     },
     "execution_count": 4,
     "metadata": {},
     "output_type": "execute_result"
    }
   ],
   "source": [
    "# Load the txt\n",
    "loader = TextLoader(\"page1.txt\")\n",
    "documents = loader.load()\n",
    "\n",
    "# Split documents and create text snippets\n",
    "text_splitter = RecursiveCharacterTextSplitter(chunk_size=100, chunk_overlap=0)\n",
    "texts = text_splitter.split_documents(documents)\n",
    "text_splitter = TokenTextSplitter(chunk_size=1000, chunk_overlap=10, encoding_name=\"cl100k_base\")  # This the encoding for text-embedding-ada-002\n",
    "texts = text_splitter.split_documents(texts)\n",
    "\n",
    "vectordb_from_text = Chroma.from_documents(documents=texts, embedding=embedding, persist_directory=None)\n",
    "vectordb_from_text.get()"
   ]
  },
  {
   "cell_type": "markdown",
   "metadata": {},
   "source": [
    "## 7b-instruct"
   ]
  },
  {
   "cell_type": "markdown",
   "metadata": {},
   "source": [
    "### Load LLM"
   ]
  },
  {
   "cell_type": "code",
   "execution_count": 5,
   "metadata": {},
   "outputs": [
    {
     "name": "stderr",
     "output_type": "stream",
     "text": [
      "Loading checkpoint shards: 100%|██████████| 2/2 [00:09<00:00,  4.52s/it]\n"
     ]
    }
   ],
   "source": [
    "tokenizer = AutoTokenizer.from_pretrained(\"tiiuae/falcon-7b-instruct\")\n",
    "\n",
    "hf_pipeline = pipeline(\n",
    "        task=\"text-generation\",\n",
    "        model = \"tiiuae/falcon-7b-instruct\",\n",
    "        tokenizer = tokenizer,\n",
    "        trust_remote_code = True,\n",
    "        max_new_tokens=100,\n",
    "        model_kwargs={\n",
    "                \"device_map\": 'auto', \n",
    "                \"load_in_8bit\": True, \n",
    "                \"max_length\": 512,\n",
    "                'pad_token_id': 11,\n",
    "                \"torch_dtype\":torch.bfloat16,\n",
    "                'temperature' : 0.0,\n",
    "                }\n",
    "        )"
   ]
  },
  {
   "cell_type": "code",
   "execution_count": 6,
   "metadata": {},
   "outputs": [
    {
     "data": {
      "text/plain": [
       "{'': 0}"
      ]
     },
     "execution_count": 6,
     "metadata": {},
     "output_type": "execute_result"
    }
   ],
   "source": [
    "llm = hf_pipeline\n",
    "llm.model.hf_device_map"
   ]
  },
  {
   "cell_type": "markdown",
   "metadata": {},
   "source": [
    "### QA Pipeline"
   ]
  },
  {
   "cell_type": "code",
   "execution_count": 7,
   "metadata": {},
   "outputs": [],
   "source": [
    "hf_llm = HuggingFacePipeline(pipeline=llm)\n",
    "retriever = vectordb_from_text.as_retriever(search_kwargs={\"k\":4})\n",
    "qa = RetrievalQA.from_chain_type(llm=hf_llm, chain_type=\"stuff\",retriever=retriever)\n",
    "\n",
    "# Defining a default prompt for flan models\n",
    "question_falcon_template = \"\"\"\n",
    "Answer the question as truthfully as possible, and if the answer is not contained within the file,\n",
    "say \"I don't know.\"\n",
    "context: {context}\n",
    "question: {question}\n",
    "answer: \n",
    "\"\"\"\n",
    "\n",
    "QUESTION_FALCON_PROMPT = PromptTemplate(\n",
    "    template=question_falcon_template, input_variables=[\"context\",\"question\"]\n",
    ")\n",
    "qa.combine_documents_chain.llm_chain.prompt = QUESTION_FALCON_PROMPT\n",
    "qa.combine_documents_chain.verbose = False\n",
    "# qa.return_source_documents = True"
   ]
  },
  {
   "cell_type": "code",
   "execution_count": 8,
   "metadata": {},
   "outputs": [
    {
     "name": "stderr",
     "output_type": "stream",
     "text": [
      "/home/isaid/arkham/failsafe/lib/python3.10/site-packages/transformers/generation/utils.py:1270: UserWarning: You have modified the pretrained model configuration to control generation. This is a deprecated strategy to control generation and will be removed soon, in a future version. Please use a generation configuration file (see https://huggingface.co/docs/transformers/main_classes/text_generation )\n",
      "  warnings.warn(\n",
      "/home/isaid/arkham/failsafe/lib/python3.10/site-packages/bitsandbytes/autograd/_functions.py:322: UserWarning: MatMul8bitLt: inputs will be cast from torch.bfloat16 to float16 during quantization\n",
      "  warnings.warn(f\"MatMul8bitLt: inputs will be cast from {A.dtype} to float16 during quantization\")\n"
     ]
    },
    {
     "name": "stdout",
     "output_type": "stream",
     "text": [
      "CPU times: user 5.98 s, sys: 742 ms, total: 6.72 s\n",
      "Wall time: 6.86 s\n"
     ]
    },
    {
     "data": {
      "text/plain": [
       "{'query': 'What is the text about?',\n",
       " 'result': \"\\nThe text is about a declaration of a person named Oscar Alberto Islas Mendoza, who is a depositor in a bank. The text states that he has been in contact with the bank and has been informed of the bank's policies and procedures.\"}"
      ]
     },
     "execution_count": 8,
     "metadata": {},
     "output_type": "execute_result"
    }
   ],
   "source": [
    "%%time\n",
    "question = \"What is the text about?\"\n",
    "qa({\"query\":question,})"
   ]
  },
  {
   "cell_type": "code",
   "execution_count": 9,
   "metadata": {},
   "outputs": [
    {
     "name": "stdout",
     "output_type": "stream",
     "text": [
      "CPU times: user 2.19 s, sys: 263 ms, total: 2.45 s\n",
      "Wall time: 2.45 s\n"
     ]
    },
    {
     "data": {
      "text/plain": [
       "{'query': 'What is the date of escritura 34,501?',\n",
       " 'result': '\\nThe date of escritura 34,501 is 20 October 2011.'}"
      ]
     },
     "execution_count": 9,
     "metadata": {},
     "output_type": "execute_result"
    }
   ],
   "source": [
    "%%time\n",
    "question = \"What is the date of escritura 34,501?\"\n",
    "qa({\"query\":question,})"
   ]
  },
  {
   "cell_type": "code",
   "execution_count": 10,
   "metadata": {},
   "outputs": [
    {
     "name": "stdout",
     "output_type": "stream",
     "text": [
      "CPU times: user 1.83 s, sys: 133 ms, total: 1.97 s\n",
      "Wall time: 1.97 s\n"
     ]
    },
    {
     "data": {
      "text/plain": [
       "{'query': \"What's the number of Contrato Mastro?\",\n",
       " 'result': '\\nThe number of the contract is \"AP000000718\".'}"
      ]
     },
     "execution_count": 10,
     "metadata": {},
     "output_type": "execute_result"
    }
   ],
   "source": [
    "%%time\n",
    "question = \"What's the number of Contrato Mastro?\"\n",
    "qa({\"query\":question,})"
   ]
  },
  {
   "cell_type": "code",
   "execution_count": 11,
   "metadata": {},
   "outputs": [
    {
     "name": "stdout",
     "output_type": "stream",
     "text": [
      "CPU times: user 4.24 s, sys: 444 ms, total: 4.68 s\n",
      "Wall time: 4.68 s\n"
     ]
    },
    {
     "data": {
      "text/plain": [
       "{'query': 'Who is the representative of AB2C Leasing de Mexico?',\n",
       " 'result': '\\nThe representative of AB2C Leasing de Mexico is Roberto Nuñez y Bandera, Notario Público No. 1 de México, Distrito Federal.'}"
      ]
     },
     "execution_count": 11,
     "metadata": {},
     "output_type": "execute_result"
    }
   ],
   "source": [
    "%%time\n",
    "question = \"Who is the representative of AB2C Leasing de Mexico?\"\n",
    "qa({\"query\":question,})"
   ]
  },
  {
   "cell_type": "code",
   "execution_count": 12,
   "metadata": {},
   "outputs": [
    {
     "name": "stdout",
     "output_type": "stream",
     "text": [
      "CPU times: user 1.92 s, sys: 224 ms, total: 2.14 s\n",
      "Wall time: 2.14 s\n"
     ]
    },
    {
     "data": {
      "text/plain": [
       "{'query': 'What is the date of acta 250?',\n",
       " 'result': '\\nThe date of acta 250 is 20 marzo de 2020.'}"
      ]
     },
     "execution_count": 12,
     "metadata": {},
     "output_type": "execute_result"
    }
   ],
   "source": [
    "%%time\n",
    "question = \"What is the date of acta 250?\"\n",
    "qa({\"query\":question,})"
   ]
  },
  {
   "cell_type": "code",
   "execution_count": 13,
   "metadata": {},
   "outputs": [
    {
     "name": "stdout",
     "output_type": "stream",
     "text": [
      "CPU times: user 2.36 s, sys: 245 ms, total: 2.61 s\n",
      "Wall time: 2.61 s\n"
     ]
    },
    {
     "data": {
      "text/plain": [
       "{'query': 'What is the number of notario  Licericiado Francisco Javier Acevedo Macari?',\n",
       " 'result': '\\nThe number of notario Licericiado Francisco Javier Acevedo Macari is 149.'}"
      ]
     },
     "execution_count": 13,
     "metadata": {},
     "output_type": "execute_result"
    }
   ],
   "source": [
    "%%time\n",
    "question = \"What is the number of notario  Licericiado Francisco Javier Acevedo Macari?\"\n",
    "qa({\"query\":question,})"
   ]
  },
  {
   "cell_type": "markdown",
   "metadata": {},
   "source": [
    "## 7b Finetuned"
   ]
  },
  {
   "cell_type": "code",
   "execution_count": 5,
   "metadata": {},
   "outputs": [],
   "source": [
    "from peft import PeftConfig\n",
    "from transformers import AutoModelForCausalLM"
   ]
  },
  {
   "cell_type": "code",
   "execution_count": 6,
   "metadata": {},
   "outputs": [
    {
     "name": "stderr",
     "output_type": "stream",
     "text": [
      "Loading checkpoint shards: 100%|██████████| 2/2 [00:10<00:00,  5.08s/it]\n"
     ]
    }
   ],
   "source": [
    "config = PeftConfig.from_pretrained('./training_results/checkpoint-240')\n",
    "tokenizer = AutoTokenizer.from_pretrained(config.base_model_name_or_path)\n",
    "\n",
    "hf_pipeline = pipeline(\n",
    "        task=\"text-generation\",\n",
    "        model = config.base_model_name_or_path,\n",
    "        tokenizer = tokenizer,\n",
    "        trust_remote_code = True,\n",
    "        max_new_tokens=100,\n",
    "        model_kwargs={\n",
    "                \"device_map\": 'auto', \n",
    "                \"load_in_8bit\": True, \n",
    "                \"max_length\": 512,\n",
    "                'pad_token_id': 11,\n",
    "                \"torch_dtype\":torch.bfloat16,\n",
    "                'temperature' : 0.0,\n",
    "                }\n",
    "        )"
   ]
  },
  {
   "cell_type": "code",
   "execution_count": 7,
   "metadata": {},
   "outputs": [
    {
     "data": {
      "text/plain": [
       "{'': 0}"
      ]
     },
     "execution_count": 7,
     "metadata": {},
     "output_type": "execute_result"
    }
   ],
   "source": [
    "llm = hf_pipeline\n",
    "llm.model.hf_device_map"
   ]
  },
  {
   "cell_type": "code",
   "execution_count": 8,
   "metadata": {},
   "outputs": [],
   "source": [
    "hf_llm = HuggingFacePipeline(pipeline=llm)\n",
    "retriever = vectordb_from_text.as_retriever(search_kwargs={\"k\":4})\n",
    "qa = RetrievalQA.from_chain_type(llm=hf_llm, chain_type=\"stuff\",retriever=retriever)\n",
    "\n",
    "# Defining a default prompt for flan models\n",
    "question_falcon_template = \"\"\"\n",
    "Answer the question as truthfully as possible, and if the answer is not contained within the file,\n",
    "say \"I don't know.\"\n",
    "context: {context}\n",
    "question: {question}\n",
    "answer: \n",
    "\"\"\"\n",
    "\n",
    "QUESTION_FALCON_PROMPT = PromptTemplate(\n",
    "    template=question_falcon_template, input_variables=[\"context\",\"question\"]\n",
    ")\n",
    "qa.combine_documents_chain.llm_chain.prompt = QUESTION_FALCON_PROMPT\n",
    "qa.combine_documents_chain.verbose = False"
   ]
  },
  {
   "cell_type": "code",
   "execution_count": 9,
   "metadata": {},
   "outputs": [
    {
     "name": "stderr",
     "output_type": "stream",
     "text": [
      "/home/isaid/arkham/failsafe/lib/python3.10/site-packages/transformers/generation/utils.py:1270: UserWarning: You have modified the pretrained model configuration to control generation. This is a deprecated strategy to control generation and will be removed soon, in a future version. Please use a generation configuration file (see https://huggingface.co/docs/transformers/main_classes/text_generation )\n",
      "  warnings.warn(\n",
      "/home/isaid/arkham/failsafe/lib/python3.10/site-packages/bitsandbytes/autograd/_functions.py:322: UserWarning: MatMul8bitLt: inputs will be cast from torch.bfloat16 to float16 during quantization\n",
      "  warnings.warn(f\"MatMul8bitLt: inputs will be cast from {A.dtype} to float16 during quantization\")\n"
     ]
    },
    {
     "name": "stdout",
     "output_type": "stream",
     "text": [
      "CPU times: user 6.75 s, sys: 892 ms, total: 7.64 s\n",
      "Wall time: 7.81 s\n"
     ]
    },
    {
     "data": {
      "text/plain": [
       "{'query': 'What is the text about?',\n",
       " 'result': \"\\nThe text is about a declaration of a person named Oscar Alberto Islas Mendoza, who is a depositor in a bank. The text states that he has been in contact with the bank and has been informed of the bank's policies and procedures.\"}"
      ]
     },
     "execution_count": 9,
     "metadata": {},
     "output_type": "execute_result"
    }
   ],
   "source": [
    "%%time\n",
    "question = \"What is the text about?\"\n",
    "qa({\"query\":question,})"
   ]
  },
  {
   "cell_type": "code",
   "execution_count": 10,
   "metadata": {},
   "outputs": [
    {
     "name": "stdout",
     "output_type": "stream",
     "text": [
      "CPU times: user 2.35 s, sys: 273 ms, total: 2.62 s\n",
      "Wall time: 2.62 s\n"
     ]
    },
    {
     "data": {
      "text/plain": [
       "{'query': 'What is the date of escritura 34,501?',\n",
       " 'result': '\\nThe date of escritura 34,501 is 20 October 2011.'}"
      ]
     },
     "execution_count": 10,
     "metadata": {},
     "output_type": "execute_result"
    }
   ],
   "source": [
    "%%time\n",
    "question = \"What is the date of escritura 34,501?\"\n",
    "qa({\"query\":question,})"
   ]
  },
  {
   "cell_type": "code",
   "execution_count": 11,
   "metadata": {},
   "outputs": [
    {
     "name": "stdout",
     "output_type": "stream",
     "text": [
      "CPU times: user 1.83 s, sys: 242 ms, total: 2.07 s\n",
      "Wall time: 2.07 s\n"
     ]
    },
    {
     "data": {
      "text/plain": [
       "{'query': \"What's the number of Contrato Mastro?\",\n",
       " 'result': '\\nThe number of the contract is \"AP000000718\".'}"
      ]
     },
     "execution_count": 11,
     "metadata": {},
     "output_type": "execute_result"
    }
   ],
   "source": [
    "%%time\n",
    "question = \"What's the number of Contrato Mastro?\"\n",
    "qa({\"query\":question,})"
   ]
  },
  {
   "cell_type": "code",
   "execution_count": 12,
   "metadata": {},
   "outputs": [
    {
     "name": "stdout",
     "output_type": "stream",
     "text": [
      "CPU times: user 4.06 s, sys: 453 ms, total: 4.51 s\n",
      "Wall time: 4.51 s\n"
     ]
    },
    {
     "data": {
      "text/plain": [
       "{'query': 'Who is the representative of AB2C Leasing de Mexico?',\n",
       " 'result': '\\nThe representative of AB2C Leasing de Mexico is Roberto Nuñez y Bandera, Notario Público No. 1 de México, Distrito Federal.'}"
      ]
     },
     "execution_count": 12,
     "metadata": {},
     "output_type": "execute_result"
    }
   ],
   "source": [
    "%%time\n",
    "question = \"Who is the representative of AB2C Leasing de Mexico?\"\n",
    "qa({\"query\":question,})"
   ]
  },
  {
   "cell_type": "code",
   "execution_count": 13,
   "metadata": {},
   "outputs": [
    {
     "name": "stdout",
     "output_type": "stream",
     "text": [
      "CPU times: user 2.04 s, sys: 204 ms, total: 2.25 s\n",
      "Wall time: 2.25 s\n"
     ]
    },
    {
     "data": {
      "text/plain": [
       "{'query': 'What is the date of acta 250?',\n",
       " 'result': '\\nThe date of acta 250 is 20 marzo de 2020.'}"
      ]
     },
     "execution_count": 13,
     "metadata": {},
     "output_type": "execute_result"
    }
   ],
   "source": [
    "%%time\n",
    "question = \"What is the date of acta 250?\"\n",
    "qa({\"query\":question,})"
   ]
  },
  {
   "cell_type": "code",
   "execution_count": 14,
   "metadata": {},
   "outputs": [
    {
     "name": "stdout",
     "output_type": "stream",
     "text": [
      "CPU times: user 2.47 s, sys: 225 ms, total: 2.7 s\n",
      "Wall time: 2.7 s\n"
     ]
    },
    {
     "data": {
      "text/plain": [
       "{'query': 'What is the number of notario  Licericiado Francisco Javier Acevedo Macari?',\n",
       " 'result': '\\nThe number of notario Licericiado Francisco Javier Acevedo Macari is 149.'}"
      ]
     },
     "execution_count": 14,
     "metadata": {},
     "output_type": "execute_result"
    }
   ],
   "source": [
    "%%time\n",
    "question = \"What is the number of notario Licericiado Francisco Javier Acevedo Macari?\"\n",
    "qa({\"query\":question,})"
   ]
  },
  {
   "cell_type": "markdown",
   "metadata": {},
   "source": [
    "# GPT 3.5"
   ]
  },
  {
   "cell_type": "code",
   "execution_count": 2,
   "metadata": {},
   "outputs": [
    {
     "data": {
      "text/plain": [
       "True"
      ]
     },
     "execution_count": 2,
     "metadata": {},
     "output_type": "execute_result"
    }
   ],
   "source": [
    "from dotenv import load_dotenv\n",
    "load_dotenv()"
   ]
  },
  {
   "cell_type": "code",
   "execution_count": 3,
   "metadata": {},
   "outputs": [
    {
     "name": "stdout",
     "output_type": "stream",
     "text": [
      "CPU times: user 336 ms, sys: 28 ms, total: 364 ms\n",
      "Wall time: 8.06 s\n"
     ]
    },
    {
     "data": {
      "text/plain": [
       "' El texto habla de AB8C Leasing de México, S.A. de C.V., una Sociedad Anónima Promotora de Inversión de Capital Variable que fue constituida bajo el nombre de Boston Leasing México, S.A. de C.V. y cuyo primer testimonio fue inscrito en el Registro Público de Comercio del Distrito Federal bajo el Folio Mercantil No. 257016 el 16 de Noviembre de 1999. La denominación social fue cambiada por la de AB8C Leasing de México, S.A. de C.V. mediante Escritura No. 53,174 de fecha 6 de junio de 2005, otorgada ante la fe del Lic. Roberto Nuñez y Bandera, Notario Público No. 1 de México, Distrito Federal, y cuyo testimonio quedó debidamente inscrito en el Registro Público de Comercio del Distrito Federal bajo el Folio Mercantil No.'"
      ]
     },
     "execution_count": 3,
     "metadata": {},
     "output_type": "execute_result"
    }
   ],
   "source": [
    "%%time\n",
    "from langchain.document_loaders import TextLoader\n",
    "from langchain.indexes import VectorstoreIndexCreator\n",
    "loader = TextLoader('page1.txt')\n",
    "index = VectorstoreIndexCreator().from_loaders([loader])\n",
    "\n",
    "# Question-answering\n",
    "index.query(\"¿De quien habla el texto?\")"
   ]
  },
  {
   "cell_type": "code",
   "execution_count": 4,
   "metadata": {},
   "outputs": [
    {
     "name": "stdout",
     "output_type": "stream",
     "text": [
      "CPU times: user 4.96 ms, sys: 1.75 ms, total: 6.72 ms\n",
      "Wall time: 1.58 s\n"
     ]
    },
    {
     "data": {
      "text/plain": [
       "' 20 de octubre del 2011.'"
      ]
     },
     "execution_count": 4,
     "metadata": {},
     "output_type": "execute_result"
    }
   ],
   "source": [
    "%%time\n",
    "index.query('¿Cuál es la fecha de la escritura 34,501?')"
   ]
  },
  {
   "cell_type": "code",
   "execution_count": 5,
   "metadata": {},
   "outputs": [
    {
     "name": "stdout",
     "output_type": "stream",
     "text": [
      "CPU times: user 49.1 ms, sys: 0 ns, total: 49.1 ms\n",
      "Wall time: 2.94 s\n"
     ]
    },
    {
     "data": {
      "text/plain": [
       "' El número del Contrato Maestro es AP000000718.'"
      ]
     },
     "execution_count": 5,
     "metadata": {},
     "output_type": "execute_result"
    }
   ],
   "source": [
    "%%time\n",
    "index.query('¿Cuál es el numero del Contrato Maestro?')"
   ]
  },
  {
   "cell_type": "code",
   "execution_count": 6,
   "metadata": {},
   "outputs": [
    {
     "name": "stdout",
     "output_type": "stream",
     "text": [
      "CPU times: user 7.9 ms, sys: 0 ns, total: 7.9 ms\n",
      "Wall time: 3.27 s\n"
     ]
    },
    {
     "data": {
      "text/plain": [
       "' Maria Isabel Bolio Montero y Pablo Enrique Romero Gonzalez.'"
      ]
     },
     "execution_count": 6,
     "metadata": {},
     "output_type": "execute_result"
    }
   ],
   "source": [
    "%%time\n",
    "index.query('¿Quien es el representante de AB2C Leasing de Mexico?')"
   ]
  },
  {
   "cell_type": "code",
   "execution_count": 7,
   "metadata": {},
   "outputs": [
    {
     "name": "stdout",
     "output_type": "stream",
     "text": [
      "CPU times: user 51.6 ms, sys: 0 ns, total: 51.6 ms\n",
      "Wall time: 2.98 s\n"
     ]
    },
    {
     "data": {
      "text/plain": [
       "' 20 de marzo de 2020.'"
      ]
     },
     "execution_count": 7,
     "metadata": {},
     "output_type": "execute_result"
    }
   ],
   "source": [
    "%%time\n",
    "index.query('¿Cual es la fecha del acta 250?')"
   ]
  },
  {
   "cell_type": "code",
   "execution_count": 8,
   "metadata": {},
   "outputs": [
    {
     "name": "stdout",
     "output_type": "stream",
     "text": [
      "CPU times: user 6.84 ms, sys: 0 ns, total: 6.84 ms\n",
      "Wall time: 3.27 s\n"
     ]
    },
    {
     "data": {
      "text/plain": [
       "' El numero del notario Licericiado Francisco Javier Acevedo Macari es 67 sesenta y siete.'"
      ]
     },
     "execution_count": 8,
     "metadata": {},
     "output_type": "execute_result"
    }
   ],
   "source": [
    "%%time\n",
    "index.query('¿Cual es el numero del notario Licericiado Francisco Javier Acevedo Macari?')"
   ]
  }
 ],
 "metadata": {
  "kernelspec": {
   "display_name": "failsafe",
   "language": "python",
   "name": "python3"
  },
  "language_info": {
   "codemirror_mode": {
    "name": "ipython",
    "version": 3
   },
   "file_extension": ".py",
   "mimetype": "text/x-python",
   "name": "python",
   "nbconvert_exporter": "python",
   "pygments_lexer": "ipython3",
   "version": "3.10.6"
  },
  "orig_nbformat": 4
 },
 "nbformat": 4,
 "nbformat_minor": 2
}
