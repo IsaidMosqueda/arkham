{
 "cells": [
  {
   "cell_type": "markdown",
   "metadata": {},
   "source": [
    "This notebook will simulate the process an user will go trough when trying to use it.\n",
    "\n",
    "The process begings with transforming the PDF file and storing it on disk:"
   ]
  },
  {
   "cell_type": "markdown",
   "metadata": {},
   "source": [
    "# OCR module"
   ]
  },
  {
   "cell_type": "markdown",
   "metadata": {},
   "source": [
    "Load the class that will be used:"
   ]
  },
  {
   "cell_type": "code",
   "execution_count": 1,
   "metadata": {},
   "outputs": [],
   "source": [
    "%reload_ext autoreload\n",
    "%autoreload 2\n",
    "\n",
    "from arkham.OCRmodule import ocr_parse_file"
   ]
  },
  {
   "cell_type": "code",
   "execution_count": 3,
   "metadata": {},
   "outputs": [
    {
     "name": "stderr",
     "output_type": "stream",
     "text": [
      "PDF text is not extractable. Cannot use the fast partitioning strategy. Falling back to partitioning with the ocr_only strategy.\n"
     ]
    }
   ],
   "source": [
    "#Instanciate the class\n",
    "file = ocr_parse_file(file_path='CONTRATO_AP000000718.pdf')\n",
    "\n",
    "#Read the file\n",
    "file.load_file(method='fast',file_language='spa')\n",
    "\n",
    "#Write the file\n",
    "file_path = file.write_file()"
   ]
  },
  {
   "cell_type": "markdown",
   "metadata": {},
   "source": [
    "And just like that! the pdf is parsed: we can take a look at it down below:"
   ]
  },
  {
   "cell_type": "code",
   "execution_count": null,
   "metadata": {},
   "outputs": [
    {
     "name": "stdout",
     "output_type": "stream",
     "text": [
      "\n",
      "\n",
      "|Page 1\n",
      "\n",
      "CONTRATO MAESTRO NUMERO AP000000718 DE ARRENDAMIENTO DE BIENES MUEBLES (EN LO SUCESIVO DENOMINADO EL “ARRENDAMIENTO MAESTRO”) QUE CELEBRAN POR UNA PARTE AB2C LEASING DE MEXICO, SOCIEDAD ANÓNIMA PROMOTORA DE INVERSIÓN DE CAPITAL VARIABLE. (EL “ARRENDADOR”, REPRESENTADA POR MARÍA ISABEL BOLIO' MONTERO Y PABLO ENRIQUE ROMERO GONZÁLEZ , POR OTRA PARTE LA EMPRESA; CRANE SUPPLIES SERVICES S.A. de C.V. REPRESENTADA POR ÓSCAR ALBERTO ISLAS MENDOZA ( “EL ARRENDATARIO” ), POR OTRA PARTE: EN LO PERSONAL Y POR SU PROPIO DERECHO, OSCAR ALBERTO ISLAS MENDOZA (COMO “EL OBLIGADO SOLIDARIO”), POR ULTIMO EN LO PERSONAL Y POR SU PROPIO DERECHO OSCAR ALBERTO ISLAS MENDOZA, COMO (EL DEPOSITARIO”) DE ACUERDO CON LAS SIGUIENTES DECLARACIONES Y CLAUSULAS.\n",
      "DECLARACIONES E. El Arrendador declara, representa y garantiza que:\n",
      "a. Es una Sociedad Anónima Promotora de Inversión de Capital Variable debidamente coristituida. bajo el nombre de Boston Leasing México, S.A. de C.Y., de conformidad a las léyes de lós Estados Unidos Mexicanos, según consta en la Escritura. Pública.20,302 de fecha 8.de Octubre de 1999, otorgada ante la fe del Lic. Alejandro E. Del Valle Palazuelos, Notario Público No. 149 del Distrito Federal, cuyo primer testimonio quedó debidamente inscrito en el Registro Público de Comercio del Distrito Federal bajo el Folio Mercantil No. 257016, el 16 de Noviembre de 1999,\n",
      "b. Mediante Escritura No. 53,174 de fecha 6 de junio de:2005, otorgada ante la fe del Lic. Roberto:Nuñez y Bandera, Notario Público No. 1 de México, Distrito Federal, se protocolizó el Acta de Asamblea General de Accionistas de fecha 6 de junio del 2005, en la cual.se acordó cambiar la denominación social por la de AB8C Leasing de México, S.A. de C.V., y cuyo testimonio quedó debidamente inscrito en el Registro Público de Comercio del Distrito Federal bajo el Folio Mercantil No. 257018 de fectia.22 de agosto del 2005.\n",
      "c. Mediante Escritura: Pública No. 55,344 de fecha 30 de agosto del 2006, otorgada ante la fe del Lic. Roberto Nuñez y Bandera, Notario Público No. 1 de México, Distrito Federal, se protocolizó él Acta de Asamblea General Extraordinaria. de Accionistas de fecha 15 de junio del 2005, en la cual.se acordó cambiar el domicilio social a la Ciudad de Guadalajara, Jálisco, cuyo primer testimonio quedó debidamente 'iriscrita en el Registro Público de Comercio de Guadalajara, Jalisco bajo el Folio Mercantil Electrónico No. 39918,\n",
      "d. Mediante Escritura Plíblica número 34,501. treinta y cuatro mil quinientos uno, de fecha 20 veinte de octubre del 2011 dos mil once, otorgada ante la fe del Licenciado. Humberto Gascón Orozco, Notario Público número 5 de Tlaquepaque Jalisco. Se protocolizó la Asamblea General Extraordinaria de Accionistas de fecha 31 treinta y uno de agosto del 2011 dos mil once, en la cual. se acordó cambiar la denominación social por la de AB8.C Leasing de México, Sociedad Anónima Promotora de Inversión de Capital Variable.\n",
      "e. Mediante acta número.250 doscientos cincuenta, de fecha 20 veinte de márzo de 2020 dos mil veinte, otorgada ante lá fe del Licericiado Francisco Javier Acevedo Macari, Notario Público número 67 sesenta y siete del estado: de. Mérida, Yucatán, se protocolizaron las resoluciones unánimes de accionistas de AB8C Leasing de México, S.A.P.. de CV. consistentes en la ratificación de la celebración del Contrato de Compraventa de Acciones, la ratificación de la trasmisión. de la Titularidad de las Accionés Representativas del Capital Social de la. Sociedad, reforma de estatutos sociales de la sociedad, incluyendo el Cambio de Domicilio Social y Cancelación de Títulos Accionarios, así corno la reclasificación y ratificación del Capital Social de la Sociedad, la renuncia y designación de funcionarios, miembros del\n",
      "1/19\n",
      "\n",
      "|Page 2\n",
      "\n",
      "Consejo de Administración y Comités de la Sociedad y la revocación y otorgamiento de poderes por la Sociedad, por mencionar algunos, cuyo primer testimonio se encuentra en trámite de inscripción ante el Registro Público de la Propiedad y dé Comercio,\n",
      "f. .Con Registro Federal de Causantes número: ALM9910114D6.\n",
      "g. Su objeto social es la compra, venta y arrendamiento de toda clase de bienes muebles y la prestación de servicios. relacionados con los mismos, y por tanto está. autorizada a celebrar este Arrendamiento Maestro.\n",
      "h. Sujeto a la suscripción.-del Anexo de Arrendamiento que corresponda (según dicho término se define más adelante), está. dispuesta a adquirir del proveedor, fabricante o constructor que le indique el Arrendatario, el Equipo (según dicho término:se define más:adelante) descrito en los Anexos de Arrendamiento del presente, con el propósito de dar en arrendamiento dicho Equipo al Arreridatarió, de conformidad a los términos y condiciones establecidos en el presente Arrendamiento Maestro y los Anexos de Arrendamiento,\n",
      "i, LA SEÑORA MARIA ISABEL BOLIO MONTERO acredita su personalidad mediante escritura Pública no. 33, del 21 de enero de 2022, ante. la fe de la Not. 67 del Edo. De Yucatán, Abog. Francisco Javier Acevedo. Macari, inscrito en el Registro Público de: la Propiedad y del Comercio de Mérida, Yucatán bajo' el. Folio Mercantil Electrónico N. -202002667\n",
      "j. EL SEÑOR PABLO ENRIQUE ROMERO GONZALEZ acredita su personalidad mediante escritura Pública no. 33, del 21 de enero de 2022; ante la fe de la Not, 67 del Edo. De Yucatán, Abog. Francisco Javier Acevedo Macari, inscrito en el Registro Público de. la Propiedad y del Comercio de Mérida, Yucatán bajo el Folio Mercantil Electrónico MN, -202002667\n",
      "Il. El Arrendatário declara, representa y garantiza que: CRANE SUPPLIES SERVICES S.A. de C.V.\n",
      "a) CRANE SUPPLIES SERVICES, SOCÍEDAD ANÓNIMA DE CAPITAL:VARIABLE empresa constituida mediante escritura pública número 13,606 (TRECE MIL:SEISCIENTOS SEIS), de fecha 13: (TRECE) DE ENERO DE 2015 (DOS- MIL QUINCE), otorgada ante la fe del Licenciado MARIO! PERALES MELENDEZ, Notario. Público número 11 (ONCE) en ejercicio de la Ciudad de TAMPICO, TAMAULIPAS y cuyo testimonio se encuentra inscrito bajo el folio mercantil electrónico número 14252*6. (UNO, CUATRO, DOS, CINCO, DOS, ASTERISCO, SEIS) en el Registró Público de la Propiedad y el Cómercio:del Estado de TAMAULIPAS.\n",
      "b) Mediante Escritura Publica número 9,210 (NUEVE MIL DOSCIENTOS'DIEZ), de fecha 22 (VEINTIDOS) DE JUNIO DE 2021 (DOS MIL VEINTIUNO), otorgada ante la fe: de la Licenciada CAROLINA GARCIA SEDAS, Notario Público Numero 271 (DOSCIENTOS SETENTA Y UNO) de la Ciudad de TAMPICO, TAMAULIPAS. Se prototolizó la Asamblea General Extraordinaria de Accionistas de fecha 04 (CUATRO) DE JUNIO DE.2021 (DOS MIL VEINTIUNO), en la cual seacordó.la Modificación al Objeto Social de la Empresa, entre otros acuerdos tomados por la Asamblea. Cuyo testimonio se encuentra inscrito bajo el número 14252 (UNO, CUATRO, DOS, CINCO, DOS) en «el Registro Público de la Propiedad y el Comercio de TAMAULIPAS.\n",
      "c) El señor OSCAR. ALBERTO ISLAS MENDOZA, acredita su personalidad .como ADMINISTRADOR ÚNICO Y/O REPRESENTANTE LEGAL, de. la empresa CRANE SUPPLIES SERVICES, SOCIEDAD ANÓNIMA DE CAPITAL VARIABLE, mediante Escritura Pública número 13,606 (TRECE MIL SEISCIENTOS SEIS), de fecha 13 (TRECE) DE ENERO DE 2015 (DOS MIL (QUINCE), otorgada. ante la fe del Licenciado MARIO PERALES MELENDEZ, Notario Público número 11 (ONCE), de la Ciudad de TAMPICO, TAMAULIPAS y cuyo testimonio quedo registrado bajo folio mercantil electrónico numero 14252*6 (UNO, 2/19\n",
      "\n",
      "|Page 3\n",
      "\n",
      "CUATRO, DOS, CINCO, DOS, ASTERISCO, SEIS) Del Registro Público dela Propiedad y el Comercio en TAMAULIPAS; en donde se le otorgan las facultades de forma: INDIVIDUAL para Pleitos y Cobranzas, actos de Administración, así“como para suscribir Títulos de crédito, Facultades necesarias y suficientes. para la firma del presente instrumento, los cuales no le han sido revocados, modificados o.limitados en forma alguna.\n",
      "OSCAR ALBERTO ISLAS MENDOZA , manifestó ser de nacionalidad MEXICANA, MAYOR DE EDAD, EMPRESARIO, Casado por Separación, nacido en TULANCINGO: DE BRAVO, MEXICO el 09 (Nueve) de. febrero de 1962 (Mil novecientos sesenta y dos), con domicilio CALLE NAYARIT 102 B ALTOS , COL GUADALUPE, TAMPICO, TAMAULIPAS, CP 89120, DE TRÁNSITO EN ESTA CIUDAD, y quien se identifica con Credencial para votar vigente.con número 0934053319749 (CERO, NUEVE, TRES, CUATRO, CERO, CINCO, TRES, TRES, UNO, NUEVE, SIETE, CUATRO, NUEVE), cuya copia se encuentra en el Archivo Oficial que BA MÍCATGO. +\n",
      "d. Con Registro Federal de Causantes:número: 0551501133X3,\n",
      "€. Quella información contenida en este Contrato Maestro y la que ha entregado por separado a La.Arrendadora para el análisis y estudio para el otorgamiento del presente arrendamiento, es verdadera y refleja en forma correcta su situación actual, constituye. toda la información personal, corporativa y financiera requerida para la celebración de este Contrato Maestro de Arrendamiento, incluyendo sin limitar los estados financieros, por lo:que a esta fecha no existe ninguna otra información- o situación de cualquier tipo. que. no haya sido «informada a La Arrendadora, en el entendido de que la información financiera y contable proporcionada a La Arrendadora refleja en forma veraz, suficiente y razonable la situación financiera y contable de La Arrendataria incluyendo la: actualización de sus áctivos de conformidad con las Normas de Información Financieras, en consecuencia, a la fecha de la celebración de éste. instrumento no tiene más deudas, contingencias, ni otros pasivos contingentes distintos a los reflejados en su información, conociendo el contenido y alcance: de las sanciones plasmadas. en las disposiciones legales de orden público-aplicables a la materia.\n",
      "í. Es su deseo tomar en arrendamiento del Arrendador el Equipo descrito eri los.Anexos de Arrendamiento del presente, de conformidad con los términos y condiciones establecidos er el presente Arrendamiento Maestro y los Anexos de Arrendamiento.\n",
      "j. Que conoce perfectamente el Equipo y lo ha seleccionado en base a sus requerimientos, experiencia y conocimientos del mismo, habiendo solicitado al Arrendador la adquisición del mismo para la celebración del presente contrato, razón pot la cual libera al Arrendador de cualquier responsabilidad en tal sentido.\n",
      "h. Su actividad habitual, sus estatutos sociales y sus lineamientos internos se encuentran dentro el marco legal vigente en aspectos sociales, laborales y de impacto ambiental, dando estricto cumplimiento a toda la tramitología, permisos, licencias, concesiones de uso o aprovechamiento a que se encuentra obligado.\n",
      "í. No efectúa actos. contrarios-o que perjudiquen el entorno socio laboral de sus empleados, colaboradores o asesores, así como tampoco efectúa práctica alguna que perjudique o llegue. a causar algún daño a su.entorno y medio ambiente.\n",
      "j. Cuenta con todas-las medidas de seguridad laborales y ambientales dentro de la actividad habitual. que realiza de acuerdo a las disposiciones legales: aplicables a la materia.\n",
      "k. No: ha: recibido, ni ha sido prevenido por parte de. ninguna: autoridad, respecto de alguna prevención, citatorio.o aviso por escrito, respecto de alguna rectamación o del no cumplimiento a cuatquier disposición .en materia social, laboral.o del medio ambiente.\n",
      "|. Solicita a sus empleados, colaboradores, asesores, contratistas, subcontratistas y cualquier otro con el que llega a tener alguna relación directa con su actividad habitual a cumplir con las 319\n",
      "\n",
      "|Page 4\n",
      "\n",
      "disposiciones legales vigentes. principalmente en temas sociales, laborales y de cuidado al medioambiente.\n",
      "m. El equipo o maquinaria que emplea, lo utiliza a través del fáctor humano de manera profesional y con todas las medidas de seguridad de acuerdo a las disposiciones de operación, conservación y cuidados, considerando el evitar y reducir cualquier daño a las personas que lo manejen, así cómo a la naturaleza y medio ambiente.\n",
      "n. En su actividad habitual no emplea a menores de edad, no discrimina en razón de edad, género, posición social o creencia religiosa.\n",
      "III, -El Obligado solidario declara, representa y garantiza que:\n",
      "1) OSCAR ALBERTO ISLAS MENDOZA\n",
      "Manifestó. ser de nacionalidad. MEXICANA, MAYOR DE.EDAD, EMPRESARIO, Casado por Separación, nacido en TULANCINGO DE BRAVO, MEXICO el'09 (Nueve) de febrero de 1962 (Mil novecientos sesenta y dos ), con domicilio NARANJO 600, COL ALTAVISTA, TAMPICO, TAMAULIPAS, CP 89240, DE TRÁNSITO EN ESTÁ CIUDAD, y quien se identifica con Credencial para votar vigente con: número 0934053319749 (CERO, NUEVE, TRES, CUATRO, CERO, CINCO, TRES, TRES, UNO, NUEVE, SIETE, CUATRO, NUEVE).\n",
      "a. Con Registro Federal de Causantes número: 1AMO6202097N3\n",
      "b. Se encuentra al corriente en el pago de sus obligaciones fiscales, pagos de cuotas al Instituto Mexicano del Seguro Social, Instituto del Fondo Nacional para la \"Vivienda de los Trabajadores y las demás que, conforme a sus actividades comerciales, se encuentra obligado en términos de Ley.\n",
      "c. Que, a la fecha del presente, no tiene entablado en su contra ningún juicio o procedimiento civil, mercantil, fiscal, laboral, administrativo: o. de cualquier especie que. afecte su capacidad económica y cumplimiento dé las obligaciones del presente Contrato:\n",
      "d. Que a la fecha del presente cuenta con bienes suficierites para comparecer al presente contrato.en su carácter de OBLIGADO SOLIDARIO, lo que acredita con la relación patrimonial que firmada entrego a. LA ARRENDADORA y como consecuencia, se obliga a el pago de tódas y cada uno.de los-pagos periódicos de ta renta única del presente Contrato Maestro.\n",
      "IV.. El Depositario declara, representa y garantiza que:\n",
      "1) OSCAR ALBERTO ISLAS MENDOZA\n",
      "Manifestó ser de. nacionalidad MEXICÁNA, MAYOR DE EDAD, EMPRESARIO, Casado por Separación, nacido en TULANCINGO DE BRAVO, MEXICO el 09 (Nueve).de febrero de 1962 (Mil novecientos: sesenta y dos), con domicilio. NARANJO 600, COL ALTAVISTA, TAMPICO, TAMAULIPAS, CP 89240, DE TRÁNSITO EN ESTA CIUDAD, y quien se identifica con Credencial para votar vigente con número 0934053319749 (CERO, NUEVE, TRES, CUATRO, CERO, CINCO, TRES, TRES, UNO, NUEVE, SIETE, CUATRO, NUEVE).\n",
      "a. Con Registro Federal de Causantes número: lAMO6202097N3\n",
      "b. Se encuentra al corriente en el pago de sus obligaciones fiscales, pagos de cuotas:-al Instituto Mexicano del Seguro Social, Instituto del Fondo Nacional para la Vivienda de los Trabajadores y las demás que, conforme a sus actividades comerciales, se encuentra obligado en términos de Ley.\n",
      "c. Que, a la. fecha del presente, no tiene entablado en su contra ningún juicio o procedimiento civil, mercantil, fiscal, laboral, administrativo:o de cualquier especie que afecte-su capacidad 4/19\n",
      "\n",
      "|Page 5\n",
      "\n",
      "económica y cumplimiento de las obligaciones del presente Contrato.\n",
      "d. Que a la fecha del preserte cuentá con bienes suficiéntes para comparecer al presente contrato en su carácter de Depositario, loque acredita con la relación patrimonial que firmada entrego a La Arrendadora y como consecuencia, se obliga:a el pago de todas y cada uno de los pagos periódicos de la renta única del presente Contrato.Maestro.\n",
      "Y. Declaran “El Arrendador”, “El Arrendatario”, “Obligado Solidario” y “Depositario” :\n",
      "a)Que se reconocen. mutuamente la personalidad jurídica.con que. acuden a la celebración del presente contrato,\n",
      "b)Que en virtud. de las declaraciones que anteceden, es su voluntad celebrar el presente contrato obligándose recíprocamente en sus términos y somietersé' a lo dispuesto. en los diversos ordenamientos encargados de regular los actos jurídicos de esta naturaleza\n",
      "Conformes las partes en las declaraciones que anteceden, acuerdan otorgar las siguientes:\n",
      "CLAUSULAS\n",
      "PRIMERA. DEFINICIONES\n",
      "Salvo que el contexto de una frase lo requiera de otra forma, los términos que a continuación se mencionan y que sean escritos con inicial mayúscula a lo largo del presente Arrendamiento Maestro y los Anexos de Arrendamiento, tendrán los siguientes significados, independientemente que: se utilicen:en singular o plural, y las: palabras en género masculino se entenderán en género femenino y viceversa:\n",
      "“Anexo de Arrendamiento”: significará conjunta o individualmente, cada uno de los documentos que las partes suscriban en.uno o:sucesivos actos con posterioridad a la fécha de celebración del presente Arrendamiento Maestro, en forma substancialmente igual a la forma que se. contiene.en el Anexo \"A” del presente contrato, y que contendrá la identificación del Equipo, así. como todas las características del mismo, en la inteligencia de que cada Anexo de Arrendamiento.se numerara progresivamente en forma sucesiva y se sujetará a los términos y condiciones previstos en el presente Arrendamiento Maestro, formando parte integrante del mismo para todos los efectos legales.\n",
      "\"Caso de Pérdida\": \"serán los defectos U vicios: ocultas, el daño parcial o total, el robo, destrucción, expropiación o confiscación, en todos los casos del Equipo, ya sea por.causa del hombre o-por-caso fortuito:o fuerza mayor, que tengan como consecuencia la pérdida del uso o que el Equipo se vuelva inutilizable o inadecuado para los fines a los que fue hecho.\n",
      "“Certificado de Aceptación”: será la aceptación expresa y total del Arrendatario al Arrendador respecto del Equipo, tanto en relación con la marca, tipa, modelo, capacidad, comerciabilidad, duración, materiales, garantías, condiciones y requisitos de funcionamiento y demás caracteristicas propias del mismo, .comó en relación al proveedor, fabricante y/o constructor del mismo. La firma.que haga el Arrendatario del-o los Anexo(s) de Arrendamiento respectivos serán considerados para todos los efectos legales como dicha aceptación y constituirá una prueba fehaciente: de la recepción y aceptación del: Equipo por parte del Arrendatario.\n",
      "\"Código Civil”: se entenderá el Código Civil Federal. Cuando se haga la cita. a un artículo del mismo, «automáticamente se entenderá. hecha a los artículos correlativos de. los Códigos Civilós de todas las entidades federativas de los Estados Unidos Mexicanos.\n",
      "“Día Inhábil\": todo día en que las instituciones de crédito de los Estados. Unidos de América y/o de los Estados Unidos Mexicanos se encuentren autorizadas para no abrir sus puertas al 5n9\n",
      "\n",
      "|Page 6\n",
      "\n",
      "público en general. “Dólar”: será la moneda de curso legal de los Estados Unidos de.América. “Pesos”: será la moneda de curso legar de los Estados Unidos Mexicanos.\n",
      "“Fecha de Inicio”: significará la fecha en que el Plazo Básico: de un: Anexo de Arrendamierito comience, :en ta inteligencia de que. dicha fecha será la que 'se establezca en el Anexo de Arrendamiento respectivo.\n",
      "“FIRA”: Fideicomisos Instituidos en Relación con la Agricultura.\n",
      "“Gravamen”: toda limitación al uso o.propiedad del Equipo ya sea mediante la:constitución de una hipoteca, el otorgamiento dei mismo en garantía, todo tipo de carga que se pretenda imponer sobre el mismo, la-práctica de un.embargo o demanda sobre o con respecto al propio Equipo-o en relación con este Arrendamiento Maestro y/o cualquier Anexo de Arrendamiento.\n",
      "“Equipo”: significará el o los bienes y, en general, todos los activos que se describan en cada uno de los Anexos de Arrendamiento y que son arrendados conforme a dicho Anexo de Arrendamiento y al presente Arrendamiento Maestro, incluyendo todos los repuestos, partes, reparaciones, adiciones, agregados y accesorios que en el futuro sean incorporados al mismo, independientemente que hayan sido hechos por el Arrendador o el Arrendatario,\n",
      "“Evento de Incumplimiento”: 'sserán aquellos acontecimientos citadós: en la cláusula Octava del presente instfumento. y que representará un incumplimiento a las obligaciones del Arrendatario y dará: lugar a las consecuencias y penas señaladas en el cuerpo de este contrato.\n",
      "“IVA”: significará el Impuesto al Valor Agregado vigente o aquel impuesto que lo sustituya, en su caso, y ala tása que sea aplicable conforme a la ley.\n",
      "“Lugar de Ubicación”: se entenderá el espacio físico en donde «el Arrendatario se obliga a instalar y/o ubicar el Equipo, no pudiendo desplazarlo a otro lugar sin la previa autorización por escrito del Arrendador.\n",
      "“Pagos Periódicos”: significará los pagos parciales y consecutivos que. el Arrendatario estará obligado a realizar por concepto de la Renta, durante los periodos convenidos por las partes en los términos del Anexo de Arrendamieñto que corresponda.\n",
      "\"Pago Proporcional”: será aquel que resulte de dividir el Pago Periódico entre el número de días que tenga dicho periodo: y multiplicado por el número de días que efectivamente hayan transcurrido entre la fecha de pago al proveedor del Equipo objeto del Anexo de Arrendamiento que corresponda y la Fecha de Inicio, más el IVA correspondiente.\n",
      "“Plazo Básico”: significará él término durante el cual cualquier Anexo de Arrendamiento del presente se encuentre en vigor, el cual comenzará.en la Fecha de Inicio.\n",
      "“Reducciones”: significará cualquier retención, reducción, compensación, defensa, contrademanda o reconvención, no importa como'se designe o la razón de la misma.\n",
      "“Renta”. significará la cantidad total que' el Arrendatario deberá pagar al Arrendador por el arrendamiento del Equipo, tal y como se convenga en cada «Anexo de Arrendamiento de Equipo, más el impuesto. al Valor Agregado (“IVA”) en vigor.\n",
      "“Valor de Reposición”: será el valor comercial que tenga el Equipo en una fecha determinada.\n",
      "“ Pago Anticipado\": será el valor que aparezca enla columna de “Pago Anticipado”, en el 6/19\n",
      "\n",
      "|Page 7\n",
      "\n",
      "Anexo “A”, una vez realizado el pago de la renta del periodo correspondiente.\n",
      "Todas las cantidades a que se haga referencia en.este Arrendamiento Maestro y cualquier Anexo de Arrendamiento serán en dólares, moneda de los Estados Unidos de América y/o pesos: moneda de los Estados Unidos Mexicanos, -a dichas cantidades se les deberá de agregar el IVA correspondiente.\n",
      "SEGUNDA. OBJETO\n",
      "El presente: contrato es de: Arrendamiento Maestro y regulará los diferentes Anexos de Arrendamiento que celebren las partes.\n",
      "Sujeto a la suscripción por parte del Arreridador y del Arrendatario de cada Anexo de Arrendamiento, el Arendador dá en arrendamiento al Arrendatario y. el Arrendatario toma en arrendamiento del Arrendador, el Equipo descrito: en cada Ánexo de Arrendamiento que corresponda.\n",
      "Las partes convienen expresamente que cada Anexo de Arrendamiento que las mismas suscriban, se sujetará a los términos y condiciones del presente Arrendamiento Maestro. Cada Anexo de Arrendamiento deberá contener los términos específicos y/o adicionales que el Arrendatario y Arrendador' acuerden, aplicables al arrendamiento instrumentado a través del Anexo de Arrendamiento que corresponda, y constituirá un convenio por separado. y diferente de cualquier otro Anexo de Arrendamiento, En caso de que exista un conflicto. entre lo previsto por el présente Arrendamiento Maestro y un Anexo de Arrendamiento, lo previsto por.el Anexo de Arrendamiento prevalecerá.\n",
      "TERCERA. PLAZO DEL ARRENDAMIENTO; PAGO DE LA RENTA\n",
      "El preserite Arrendamiento Maestro entrará en vigor en la fecha de su firma y continuará en vigor durante el periodo de tiempo en el que cualquier Anexo de Arrendamiento permanezca en Vigor.\n",
      "El Plazo Básico. del arrendamiento instrumentado én cada Anexo de Arrendamiento que las partes suscriban será: aquél que para cada caso se establezca en el Anexo de Arrendamiénto correspondiente y comenzará en la Fecha de Inicio,\n",
      "El Arrendatarió se obliga a pagar al Arrendador, en pesos moneda de los Estados. Unidos Mexicanos o en dólares morieda de los Estados Unidos de América o su equivalente en pesos al tipo de cambio de venta en “Ventanilla”, en la cuenta bancaria en número 65502452855, clabe interbancaria 014320655024528553, en Santander México, S.A., 1.B.M., (Grupo. Financiero Santander México, , en Guadalajara, Jal. o en cualesquiera otras que el Arrendador le notifique periódicamente: por escrito al Arrendatario con quince (15) dias naturales de anticipación “sin necesidad de notificaciones o demandas posteriores, las cantidades correspondientes a los Pagos Periódicos que por concepto de Renta se establezcan 'en cada Anexo de Arrendamiento que-corresponda, más el IVA. El primer Pago Periódico se hará en la Fecha de Inicio y de ahí en adelante en el primer día de cada periodo cuando el Pago Periódico deba efectuarse de conformidad con lo estipulado en cada Anexo de Arrendamiento durante el Plazo Básico 0 cualquier -extensión del mismo,\n",
      "Asimismo, a la fecha de firma del Anexo de Arrendamiento correspondiente el Arrendatario estará obligado a pagar al Arrendador en los términos establecidos en el párrafo anterior, el Pago Proporcional que en su caso se genere,\n",
      "Si el día en que el Arrendatario debiere realizar en favor del Arrendador cualquier pago fuere un día Inhábil (todo día en que-las instituciones:de crédito. de los Estados Unidos de América y!o de los Estados Unidos Mexicanos se encuentren-autorizadas para no abrir sús puertas al público:en general), dicho pago se hará el día hábil inmediato anterior.\n",
      "7119\n",
      "\n",
      "|Page 8\n",
      "\n",
      "CUARTA. ARRENDAMIENTO NETO\n",
      "Cada Anexo de Arreridamiénto. suscrito conforme al presente documento “constituirá un arrendamiento neto y el Arrendatario conviene en que su obligación de pagar la Renta, mediante los Pagos Periódicos, y otras cantidades que sean pagaderas conforme al presente, será absoluta'e incondicional, y no-estará sujeta a Reducciones de ninguna clase, incluyendo sin limitación alguna, Reducciones por causa de cualquier demanda pasada, presente o futura qué sea consecuencia de este Arrendamiento Maestro, cualquier Anexo de Arrendamiento o por cualquier otra razón, o en contra del fabricante, proveedor.o constructor del Equipo o en contra de cualquier otra persona física o. persona moral, por lo. tanto-el Arrendatario renuncia expresamente en este acto a cualquier derecho contenido en el:Artículo 2445 del Código Civil. Para efectos de lo: establecido. en el Artículo 2464 del Código. Civil, queda expresamente convenido entre las partes que el arrendamiento instrumentado en los términos del Anexo de Arrendamiento que corresponda es. por tiempo fijo, y que el término \"Pago Periódico”, se ha definido única y exclusivamente para determinar los periodos establecidos como plazos para el pago de la Renta, por lo que el Arrendatario está obligado. a pagar la totalidad de la Renta. Asimismo, las partes expresaménte convienen en que la: Renta constituye un sólo y único precio por el arrendamiento del Equipo, razón por la que, en caso de que el Arrendatario devuelva “el Equipo antes de.\n",
      "QUINTA. SELECCIÓN Y ENTREGA DEL EQUIPO\n",
      "El Arrendatario, en forma incondicional, hace constar que ha seleccionado directamente y de conformidad con sus propios intereses, tanto el Equipo en cuanto a la marca, capacidad, tipo, modelo, calidad, comerciabilidad.y demás especificaciones, como al proveedor, fabricante o constructor del mismo, asl como que el Equipo respecto del cual se-le-otorga el arrendamiento en los términos del Anexo de Arrendamiento de que se trate, es de su entera“satisfacción en los términos de lo dispuesto por dicho Anexo de Arrendamiento, en la inteligencia de que la firma- del Anexo de Arrendamiento por parte del Arrendatario, será considerada como un certificado de aceptación, el cual constituirá una prueba fehaciente de la recepción y aceptación dei Equipo por parte del Arrendatario,\n",
      "En virtud de lo dispuesto en el párrafo que antecede, .el Arrendatario libera expresamente al Arrendador dé cualesquiera responsabilidad derivada del arrendamiento del Equipo, enunciativa y no limitativamente, de cualesquiera responsabilidad surgida de daño, defecto, vicio oculta, error u omisión en el Equipo o en su descripción, o del incumplimiento. por parte del proveedor, fabricante o constructor del Equipo en la' entrega del mismo y por lo tanto el Arrendatarió expresamente renuncia a cualquier derecho conforme al Artículo-2421 del-Código Civil. El Arrendatario tendrá derecho al benefició de cualquiera garantia del Equipo otorgada por el fabricante, proveedor o constructor del mismo, por lo que el Arrendador en este acto legitima al Arrendatario. para que eñ su nombre y representación ejercite cualquier acción a que haya lugar frente al proveedor, fabricante o constructor del Equipo pará ejercer la garantía aplicable.\n",
      "Será. por cuénta del Arrendatario, lá totalidad de los gastos que se originen con: motivo de la desinstalación, empaquetamiento, transporte. y entrega del Equipo al lugar que le indique por escrito el Arrendador al concluir por cualquier causa el Anexo de Arrendamiento respectivo. El Arréndador, de conformidad con las instrucciones que al efectó reciba del. Arrendatario, cubrirá al proveedor, fabricante o constructor del Equipo, el precio total respectivo de los mismos, en la inteligencia: de que las facturas correspondientes quedarán en poder del Arrendador.\n",
      "SEXTA. RESPONSABILIDAD El Arrendatario conviene y reconoce expresamente que.el Arrendador no será. responsable\n",
      "8/19\n",
      "\n",
      "|Page 9\n",
      "\n",
      "frente al Arrendatario o. cualquier tercero por daños cáusados directa o indirectamente por o con el Equipo aún por responsabilidad objetiva a que se refiere: el artículo 1913 del Código Civil. En tal virtud, el Arrendatario se obliga a indemnizar, defender y sacar en paz y a salvo a su costo al Arrendador, a sus accionistas, directivos y empleados, respecto de cualquier juicio, reclamación y/o procedimiento por tal concepto, así como a cubrir todos los: gastos relacionados con táles juicios, reclamaciones y/o procedimientos, incluyendo los honorarios legales correspondientes: La indemnización del Arrendatario. conforme al presente incluirá igualmente, de manera enunciativa más no: limitativa; reclamaciones derivadas de violaciones en materia de patentes, marcas y/o derechos de autor que dirijan terceras personas en contra del Arrendador por dichas violaciones.\n",
      "Todas las indemnizaciones que surjan como consecuencia de lo anterior, con respecto a los actos o eventos. ocurridos entre la recepción por el Arrendatario' y la devolución del Equipo al Arrendador, continuarán vigentes hasta su prescripción legal, no obstante.el pago total. de todas las cantidades debidas conforme al presente y Jos Anexos de Arrendamiento y no obstante la-terminación del Plazo Básico o terminación anticipada en cualquier forma del presente Arrendamiento Maestro o de todos o cualesquiera dé los Anexos de Arrendamiento.\n",
      "SÉPTIMA. OBLIGACIONES DEL ARRENDATARIO\n",
      "Adicionalmente a cualquier obligación a cargo del :Arrendatario en los: términos, del Arrendamiento Maestro y/o cualesquiera Anexos de: Arrendamiento, durante la vigencia de los mismos, el Arrendatario se obliga a y será responsable de:\n",
      "a) Cumplir con todas las leyes, reglamentos y decretos de cualquier dependencia o agencia gubernamental, relacionadas con la instalación, uso, posesión.u operación del Equipo, y en tal virtud obtener y mantener por su cuenta las licencias, permisos, registros y demás documentación que se requiera con dichas leyes, reglameritos y decretos que sean aplicables al respecto, relativas. al Equipo, así como a su instalación, uso, posesión u operación. Será a cargo. del -Arrendatario cualquier infracción, multa o sanción impuesta por las autoridades competentes, en relación con lo anterior.\n",
      "b) Usar el Equipo únicamente:en el curso regular dé su negocio, dentro de-su capacidad normal y sín abuso del mismo y conservarlo en el estado que permita el :uso normal que le corresponda y asimismo dar el mantenimiento necesario.\n",
      "c) Instalar, por-sucuénta y costo y utilizar el Equipo precisamente en el Lugar de Ubicación del Equipo, salvo autorización expresa del Arrendador. En caso de que el Equipo sea vehiculo automotor o equipo de transporte en general, deberá. informar al Arrendador por escrito el o los lugares de su principal encierro. El Equipo no podrá ser trasladado, en ningún caso, fuera de la República Mexicana.\n",
      "d) Recibir el Equipo directamente del proveedor, fabricarite o. constructor de los mismos, y entregar, en su caso, toda lá documentación relativa al mismo. al Arrendador, tales. como facturas, boletas de pago de impuestos, tenencias y pedimentos de importación.\n",
      "e) Fijar en un sitio visible del Equipo y en forma permanente, una etiqueta de 5 cms. de ancho por 9 cms. de largo, que indique que el Equipo es propiedad del Arrendador. Dicha etiqueta deberá de ser proporcionada por el Arrendador.\n",
      "f) Adquirir por su cuenta y utilizar exclusivamente refacciones, herramientas y partes, nuevas y legítimas del fabricante.\n",
      "d) Cumplir meticulosamente con los instructivos de instalación, mantenimiento y uso del Equipo que le entregue. el fabricante o proveedor.\n",
      "9/19\n",
      "\n",
      "|Page 10\n",
      "\n",
      "h) Pagar por su cuenta los gastos relativos al funcionamiento y conservación del Equipo, asf como los gastos, derechos e impuestos, incluyendo. el IVA, vigentes o futuros que graven la posesión o tenencia del Equipo, incluyendo aquéllos derivados de la elaboración del presente Arrendamiento Maestro y los Anexos de Arrendamiento.\n",
      "i) Capacitar o permitir que-el fabricante o proveedor del Equipo capaciten «al personal que tendrá a-su cargo la operación y/o uso del Equipo.\n",
      "3) Permitir al Arrendador o' a quien este designe, durante horas hábiles del Arrendatario, previo aviso por escrito y 'sujeto a los procedimieritos de “seguridad del Arrendatario, la inspección del Equipo y:de los registros de mantenimiento del mismo.\n",
      "k) Permitir:el acceso:a sus empresas del personal de la Arrendadora, del Banco, de:FIRA y/o de los representantes de cualquier institución u organismo internacional o. nacional que haya intervenido en el financiamiento, 'así como de proporcionariés tanto a ellos: coma a las autoridades que lo requieran, la contabilidad, los documentos y datos que les soliciten en relación con lá operación de arrendamiento que. la Arrendadora les haya otorgado y con la ejecución de- los proyectos respectivos; para este efecto el FIRÁ ú cualquiera de: los representantes de las: Instituciones.antes mencionadas comunicarán por escrito lo conducente a la Arrendadora, por lo menos con 5 (cinco) días hábiles bancarios de anticipación a la visita.\n",
      "I) La Arrendadora podrá designar un interveñtor obien imponer cualquier otra medida legal, cuando el Arrendatario no cumpla con las obligaciones que son a su cargo, en cuyo caso los gastos que se ocasionen, serán por cuenta del Arrendatario.\n",
      "m) Realizar.a su costo todas las acciones tendientes o necesarias para recuperar el Equipo o defender el uso y goce del mismo, en caso de despojo, perturbación o de cualquier acto de terceros que afecte.el uso o goce del Equipo, así como notificar por escrito y de inmediato al Árrendador de dicha circunstancia. De darse dichos supuestos, el Arrendador: legitimará al Arrendatario pára que ejercite las. acciones o defensas, 'cuando ello fuere necesario, sin perjuicio del derecho del Arrendador de ejercitarlas directamente,\n",
      "n)  Reembolsar al Arrendador, en cuanto éste se lo solicite, cualesquier cantidad que el Arrendador hubiere erogado por cuenta del Arrendatario, por obligaciones de pago a cargo del Arrendatario derivadas del presente Arrendamiento Maestro y.sus Anexos de- Arrendamiento.\n",
      "o) Entregar anualmente, dentro de los primeros. 4. meses de cada ejercicio social, sus estados financieros dictaminados, así como cada trimestre sus estados financieros internos,\n",
      "debidamente firmados por el apoderado legal. Así mismo el Obligado Solidario, deberá entregar anualmente en la fecha aniversario del Contrato Maestro de Arrendamiento de que se\n",
      "trate, su relación patrimonial actualizada y debidamente firmada.-para los efectós del presente.\n",
      "p) Notificar por escrito y-de inmediató al Arrendador de cualquier conflicto obrero-patronal de naturaleza colectiva que se presente entre el Arreridatario y sus trabajadores, en el entendimiento de que el Equipo, por ser propiedad del Arrendador, no podrá ser embargado ni objeto de invasión o ser tomado o dado:en garantía por parte de los trabajadores por concepto de cualesquiera prestaciones que. el Arrendatario pudiere adeudarles.\n",
      "q) Asegurar el Equipo en los términos de lacláusula Décima Primera posterior.\n",
      "nm El Arrendatarió deberá manejar racionalmente los recursos naturales y preservar el medio ambiente, acatando las medidas y acciones dictadas por las autoridades competentes.\n",
      "s) El Arrendatario y El Obligado Solidario, autorizan a La Arrendadora para que durante la vigencia del este Contrato Maestro y/o sus Anexos de Arrendamiento, así como cualquier otro documento posterior que se emita conforme al presente, puedan realizar consultas a las Sociedades de Información Crediticia o Burós de Crédito, que permitan verificar la situación\n",
      "10/19\n",
      "\n",
      "|Page 11\n",
      "\n",
      "que guardan sus pasivos.\n",
      "t) El Arrendatario además de las obligaciones anteriores, se obliga y será responsable de que las actividades que realiza habitualmente, se lleven acabo de forma responsable cuidando en todo momento el entorno socio-laboral y el:impacto ambiental; entendiéndose por:\n",
      "Entorno Socio-Laboral: a los derechos de los trabajadores. y principios básicos, a los que deben atenerse las relaciones laborales. desde el punto de vista (i) individual (no discriminación, no trabajo forzoso, no trabajo infantil, derechos) (ii)colectivo (libertad sindical, negociación colectiva, diálogo social), (iii) capacitación, (iv) seguridad social y (v) formativo, entre otros.\n",
      "Impacto Ambiental: el efecto que produce la actividad humana sobre medio ambiente y que piden ocasionar condiciones adversas como (i) contaminación de océanos o aguas: en general; (ii) desechos radioactivos o' nucleares; (ii) contaminación auditiva; (iv) emisión -de gases nocivos; (v) pérdidas del hábitat natural; entre. otros.\n",
      "u) En consecuencia El Arrendatario, tendrá las siguientes obligaciones de hacer relacionadas con los Riesgos Sociales y Ambientales:\n",
      "(i). Cumplir con la legislación relacionada a. la Protección del Medio Ambiente y Recursos Forestales;\n",
      "(ii), Dar cabal cumplimiento a la Ley Fedéral del Trabajo y demás disposiciones aplicables a las relaciones laborales o de naturaleza Civil o mercantil, relacionada con sus .empleados, colaboradores o asesores.\n",
      "(iii). Mantener vigentes cualquier tipo de Norma Oficial Mexicana o Extranjera de ser el caso; así como cualquier tipo-de licencia o permiso.\n",
      "(iv). Tomar las medidas necesarias para proteger la salud, higiene y seguridad laboral del entorno que lo rodea.\n",
      "(v). Permitir en cualquier momento que La Arrendadora, la fondeadora o cualquier otro que la primera autorice, inspeccione las instalaciones de mi actividad habitual, matriz, holdings, subsidiarias o sucursales relacionadas para. acreditar que se' da cumplimiento a las disposiciones en materia socio-laboral y ambiental.\n",
      "v) Asimismo El Arrendatario, se obliga a no hacer, respecto de los Riesgos Sociales y Ambientales:\n",
      "(i). Realizar o utilizar cualquiera de- las actividades denominadas Actividades Excluidas en términos de. la \"Lista dé Exclusión Armonizada para las. Instituciones Financieras Europeas para el Desarrollo” (EDF)\n",
      "(ii). Efectuar o solicitar trabajos forzados, es decir, trabajos o “servicios realizados contra la voluntad de quien lo hace.\n",
      "(iii). Utilizar sustancias o: elementos considerados ilegales, de acuerdo al derecho positivo vigente o bien, a tratados o. acuerdos internacionales.\n",
      "(iv). Efectuar actos o hechos.que pongan o puedan poner en riesgo al individuo, vecino, a la comunidad en general ó. al medio ambiente.\n",
      "(v). Atentar contra áreas naturales de cualquier tipo, principalmente de alto valor de conservación, es decir, no atentar contra hábitats naturales donde estos valores se consideran de importancia.\n",
      "En el supuesto de actuar en forma contraria a las “obligaciones de hacer o no-hacer antes mencionadas, y en general:efectuar o dejar de efectuar, según sea el caso, cualquier acto que implique una. actividad ilícita que no réspete, sea contrario o violatorio a cualquier disposición nacional o internacional en materia socio-laboral y/o “ambiental, dará lugar a una causal de vencimiento anticipado.\n",
      "OCTAVA. INCUMPLIMIENTO\n",
      "Si se presentare cualquiera de los siguientes eventos, el mismo constituirá: un un incumplimiento por parte del Arrendatario conforme: al presente (un “Evento de Incumplimiento”):\n",
      "11/19\n",
      "\n",
      "|Page 12\n",
      "\n",
      "a) Que'el Arréndatario no pague en la fecha de vencimiento cualquier Pago Periódico o Renta, y que dicho incumplimiento coritinúe por un periodo de'mas de diez:(10) días naturales.\n",
      "b) Que el Arrendatario: no cumpla u observe cualquier obligación, convenio, condición o acuerdo confórme al presente o cualquier Anexo dé Arrendamiento distinto al establecido en el inciso (a) anterior, y que dicho incumplimiento continúe por treinta (30) días naturales.\n",
      "6) Que cualquier declaración, representación o garantía del Arrendatario hecha conforme al presente o cualquier Anexo de Arrendamiento o en cualquier documento o certificado firmado por el Arrendatario- y relacionado con el presente o cualquier Anexo de Arreridamiento, hubiere resultado falsa en cualquier respecto:al momento en que la misma fue hecha.\n",
      "d) Que el Arrendatario cese de llevar a cabo sus hegocios comio: lo ha: venido haciendo, realice una cesión :en beneficio de acreedores, admita por escrito su incapacidad para pagar sus deudas conforme éstas se venzan, sea intervenido. legalmente, se presente una petición de concurso. mercantil sea en forma voluntaria o por cualquier tercero, sea declarada en quiebra, insólvente o se le autorice a suspender pagos.a terceros.\n",
      "8) Por disolución o liquidación del Arrendatario 6 si'el Arrendatario se fusionare o escindiere sin autorización del Arrendador.\n",
      "f) Que el Arrendatario intente remover, vender, transmitir, gravar, perder la posesión o subarrendar el Equipo: o: cualquier parte del mismo, o ceder los derechos. del presente Arrendamiento Maestro o' de cualquier Anexo de Arrendamiento, salvo como expresamente se permite en el presente.\n",
      "9) Que el Arrenidatario cambie el Lugar de Ubicación del Equipo sin autorización previa y por escrito del Arrendador.\n",
      "h)- Que el Arrendatario no: firme el Aviso de Cesión a que se refiere la cláusula Décima Cuarta del presente.\n",
      "iy El Arrendatario y El Obligado Solidario deberán abstenerse de vender, arrendar, transmitir, gravar o de otra forma disponer de la totalidad o parte sustancial de sus propiedades o activos detallados en su relación patrimonial, información financiera u otros. entregados. a La Arrendadora, para la autorización del arrendamiento que.se documenta en el presente y/o-sus anexos, bajo pena de dar por vencido anticipadamente el arrendamiento de que se trate. Salvo-consentimiento expreso y por escrita de La Arrendadora\n",
      "NOVENA. DERECHOS\n",
      "Las partes acuerdan que en caso de que ocurra cualquier Evento de Incumplimiento y «en cualquier tiempo ulterior, el Arrendador podrá, a su discreción, dar por vencido anticipadamente este Arrendamiento: Maestro y/o cualesquiera. o todos los Anexos de Arrendamiento sin tesponsabilidad de ninguna clase y sin necesidad de intervención judicial, y por ende, exigir el: pago de la tótalidad de la Renta és decir la totalidad de los: Pagos Periódicos vencidos y por vencerse y cualesquiera otras cantidades insolutas: derivadas del Arrendamiento Maestro y/o de cualesquiera Anexos de Arrendamiento, quedando en tal caso el Arrendatario, sin el beneficio de división del pago de la Reñnta. En' este. supuesto, el Arrendatario se obliga a devolver el Equipo al Arrendador, en los términos de la cláusula Décima Tercera del presente.\n",
      "La terminación del Arrendamiento Maestro y/o cualesquiera Anexo de Arrendamiento como consecuéncia de un Evento. dé Iricumplimiento por parte del Arrendatario, ocurrirá mediante un aviso por escrito por parte del Arrendador al Arrendatario. Ninguno de los derechos a que hate referencia esta cláusula deberán entenderse como exclusivos, pero cada uno:debe de\n",
      "12/19\n",
      "\n",
      "|Page 13\n",
      "\n",
      "ser acumulativo y. adicional a.cualquier otro derecho antes mencionado o que-se encuentre disponible para. el Arrendador en la ley.- Ninguna renuncia, expresa o tácita, del Arrendador de cualquier incumplimiento deberá considerarse cómo una renuncia de cualquier otro incumplimiento. por parte del Arrendatario o una renuncia de cualquiera de los deréchos del Arrendador.\n",
      "DÉCIMA. DAÑO, DESTRUCCIÓN O PÉRDIDA\n",
      "A partir de la fecha de firma del Anexo de Arrendamiento, hasta la fecha en que el Equipo-sea devuelto porel Arrendatario :al Arrendador, en los términos de. la cláusula Décima Tercera, serán a cargo del Arrendatario. los riesgos- por. cualquier Caso. de Pérdida. El Arrendatario deberá notificar por escrito cualquier Caso de Pérdida inmediatamente al Arrendador, en el entendido de-que, en caso de realizarse un Caso de Pérdida, el Arrendatario no quedará liberado del pago de la Renta, salvo lo previsto en la Cláusula Décima Primera del presente.\n",
      "En caso de que hubiere ocurrido un (Caso de Pérdida, el Arréndador podrá dar por terminado el Anexo de Arrendamiento respecto del Equipo afectado, en cuyo caso el Arrendatario deberá pagar al Arrendador dentro de los: 30 (treinta) días naturales siguientes a la fecha de terminación respectiva, una-cantidad. equivalente a las: cantidades que sean necesarias para liquidar los Pagos Periódicos vencidos y por vencerse del Anexo de Arrendamiento respectivo a la fecha de la terminación correspondiente, la diferencia, en 'su caso, entre 'el Valor de Reposición del. Equipo respectivo y los Pagos Periódicos antes: mencionados y, en su caso, los. daños causados a terceros. En caso de que-el Anexo de Arrendamiento antes mencionado documente el arrendamiento de diversos Equipos respecto de los.cuales no hubiera ocurrido un Caso de Pérdida, el Arrendador podrá Re: documentar los Págos Periódicos futuros de dichos Equipos a través de un nuevo Anexo de Arrendamiento,\n",
      "No obstante, se mencione algo en contrario en esta clausula, el Arrendatario no tendrá responsabilidad. con el Arrendádor por daños o costos causados por la negligencia del Arremidador.\n",
      "DÉCIMA PRIMERA. SEGUROS\n",
      "A partir de la entrega del equipo, el. Arrendatario, contratará los seguros que fueren necesarios para cubrir, por todo el tiempo del Plazo Básico, o cualquier extensión del mismo establecido en cualesquierá de los Anexos de Arreridamiento: (i) los riesgos de un Caso de Pérdida del Equipó; y, (ii) las responsabilidades por «daños «a terceros que puédan causarse por la posesión, el uso y goce del Equipo: En la póliza respectiva deberá quedar el Arrendador nombrado como primer beneficiario irrevocable. El 'Arrendatario'incondicionalmente'se obliga. a pagar al Arrendador cualquier diferencia no cubierta por las compañías aseguradoras como consecuencia de un Caso de Pérdida y que resulte en que la cantidad pagada sea:insuficiente para cubrir en su totalidad: (i) en primer lugar los Pagos. Periódicos vencidos y por vencerse del Anexo de Arrendamiento respectivo a la fecha de la indemnización correspondiente; (ti) en segundo lugar, la diferencia, en su caso entre el Valor de Reposición del Equipo respectivo y los Pagos Periódicos antes mencionados; y, (iii) en tercer lugar, en su caso, los daños causados a terceros. En caso de que hechos. los pagos anteriores resultare algún excedente, éste será devuelto al Arrendatario.\n",
      "El Arrendatário deberá. entregar al Arrendador un certificado del seguro nombrando al Arendador comio primer beneficiario irrevocable dentro «de los veinte (20) días naturales siguientes -a la entrega de los Equipos, así como también de la renovación de dichas pólizas mientras se encuentre en vigor «el presente Arreridamiento Maestro y el Anexo: de Arrendamiento respectivo, o la prórroga en su caso. El Arrendatarío se: obliga a que la contratación de la póliza correspondiente se hará al momento de recibir los Equipos y en dicha póliza deberá establecerse que la cobertura del seguro no podrá ser cancelada, materialmente alterada o revocada, sin previo aviso por escrito del Arrendador a la compañía aseguradora de que se trate. 13/19\n",
      "\n",
      "|Page 14\n",
      "\n",
      "De no cumplir el Arrendatario con lo mencionado en el párrafo anterior, el Arrendador contratará el seguro correspondiente por los riesgos que deba amparar y por cualesquiera otros que estime convenientes, por cuenta del Arrendatario, quien deberá. reintegrar las cantidades erogadas por tal concepto en un término que.no excederá de 30 (treinta) días, a partir de la-fecha én que sean cubiertos o de lo contrario se aplicarán los intereses moratorios establecidos en la cláusula Vigésima posterior.\n",
      "DÉCIMA SEGUNDA. DERECHO DEL ARRENDATARIO A LA TERMINACIÓN.DEL ANEXO DE ARRENDAMIENTO\n",
      "Al concluir el Plazo Básico, o cualquier extensión del mismo, de cada Anexo de Arrendamiento, y siempre y cuando el Arrendatario se encuentre al corriente en el cumplimiento de todas y cada una de las obligaciones que el presente Arrendamiento Maestro, así como cualesquiera Anexo de Arrendamiento le. imponen, este último tendrá derecho preferente para adquirir la totalidad (pero no menos que lá totalidad) del Equipo materia del arrendamiento instrumentado en «el Anexo de Arrendamientó de que. se trate, de conformidad con tas.siguientes reglas:\n",
      "a) El Arfendador deberá requerir por escrito al Arrendatario con cuando menos 90 (noventa) días de anticipación a la fecha de terminación del Plazo Básico del Anexo de Arrendamiento correspondiénte, su decisión con respecto (i) al ejercicio de su derecho preferente para la adquisición del Equipo o (ii) ta devolución dél:Equipo a la terminación del Plazo Básico, 'en el entendido de que el Arrendatario deberá de comunicar su decisión por escrito al Arendador con respecto a cualquiera. de las dos opciones anteriores dentro de los 10 (diez) días siguientes a la recepción del requerimiento del Arrendador,\n",
      "b) En caso de que.el Arrendatario hubiére comunicado al Arrendador su intención de ejercer su derecho preferente de adquisición del Equipo .dentro del plazo establecido en el inciso anterior, el Arrendador comunicará al -Arrendatario por escrito dentro de los 30 (treinta) días siguientes a la fecha de recepción del aviso:antes mencionado, el precio de venta del Equipo, estimado en la fecha de terminación del Plazo Básico o cualquier extensión del mismo. del Anexo de Arrendamiento respectivo y que deberá ser determinado en función de su respectivo valor demercado.- El Arrendatario, a su vez, deberá manifestar al Arrendador su conformidad con dicho precio dentro de los 10 (diez)días siguientes a la fecha de recepción de dicha comunicación.\n",
      "c) La totalidad de impuestos, derechos, contribuciones o gastos de cualquier naturaleza que se ocasionen con motivo de la adquisición del Equipo, serán a cargo del Arrendatario, exceptuando los que correspondan al propio: arrendador'con motivo de la venta del equipo.\n",
      "d) En su caso, el Arrendatario deberá pagar al Arreridador, dentro.de los diez (10) días hábiles siguientes a.la fecha de expiración del Plazo Básico,.el precio de venta del Equipo, así como el importe de todos los impuestos que fueren aplicables a dicha compraventa y cualesquiera otras. cantidades por concepto de: renta o derivadas del arrendamiento del Equipo, que se encontraren pendientes de pago.\n",
      "e) En el pago del Precio de Venta, el Arrendador transmitirá la propiedad del Equipo objeto de la misma, sin el reconocimiento de garantía álguria y mediante la entrega de la factura correspondiente.\n",
      "DÉCIMA TERCERA. DEVOLUCIÓN DEL EQUIPO\n",
      "Al término por cualquier causa del Arrendamiento Maestro o de cualesquiera Anexo de Arrendamiento, siempre y cuando el Arrendatario no hubiera ejercido el derecho de preferencia para su adquisición a que se refiere la cláusula Décimo Segunda, el Arrendatario deberá, a su costo, desinstalar, Re empaquetar y devolver el Equipo al. Arrendador en su domicilio -o en el lugar y fecha que este último le indique por:escrito para tal efecto, en-el\n",
      "14/19\n",
      "\n",
      "|Page 15\n",
      "\n",
      "estado y condiciones en que el Arrendatario lo hubiese recibido, sin mayor desgaste que el normalmente derivado dé su.uso:o deterioro normal, deterioro-que deberá de ser el de su'uso normal al nivel del mar, Previa la entrega del Equipo, el Atrendatario deberá realizar a 'su costa todas las reparaciones y demás trabajos que requiera el Equipo, para que el mismo se entregue conforme 'a las condiciones que deba tener en base al contrato de mantenimiento estándar del fabricante o de cualquier distribuidor autorizado.\n",
      "En caso de que el Equipo no fuere devuélto en la fecha á que se refiere el párrafo'anterior, o que Arrendatario no hubiere notificado al Arrendador su decisión con: respecto al Equipo, dentro del plazo establecido en el inciso a) de lá Cláusula anterior, el plazo. del arrendamiento respectivo se prorrogará automáticamente. trimestralmente, desde el vencimiento del Plazo Básico y así sucesivamente hasta la devolución respectiva, en la inteligencia de que las prórrogas :correspondientes. se considerarán 'forzosas para efectos del arrendamiento y durañte la vigencia de cada una de ellas el Arendatario se obliga a pagar al Arrendador una cafitidad igual al setenta y cinco por ciento (75%) del Pago Periódico correspondiente.\n",
      "DÉCIMA CUARTA. CESIÓN POR EL ARRENDADOR\n",
      "El Arrendador podrá ceder o transferir el presente Arrendamiento Maestro o cualquiera de sus Anexos de Arrendamiento o: sus derechos sobre.el Equipo o. constituir garantías sobre dichos documentos O derechos, 'a uno o más terceros (el “Cesionario\") sin_necesidad de autorización del Arrendatario. Cualquier Césionario del Arrendador tendrá todos los derechos, pero ninguna de las obligaciones. del Arrendador, el cual conservará sus obligaciones conforme al preseñte, a menos quese convenga lo contrario por escrito, y el Arrendatario conviene y se obliga a rio interponer en contra de cualquier Cesionario cualesquiera Reducciones que el Arrendatario pudiere tener.en'contra del Arrendador. En tal virtud, el Arrendatario renuncia expresamente a: lo. dispuesto en el artículo 2035 del Código Civil. El Arrendatario no tendrá más obligaciones para con los Cesionarios de las que tenía con el Atrendador al momento de la cesión respectiva y dicha cesión no deberá limitar o de cualquier forma restringir los. derechos. del Arrendatario conforme al presente, En este acto, el\n",
      "Arrendatario (i) otorga su consentimiento con respecto de dichas cesiones y/o transferencias, (ii) ) se obliga en forma incondicional _á recibir la “Notificación de cesión” respectiva, en lá que se haga constar la cesión, transmisión u otorgamiento de garantía a favor de cualquier tercero (el “Cesionario”), y (iii) conviene en cumplir con los\n",
      "términos de cualquigra de dichas cesiones y/o transferencias. El Arrendatario conviene en que cualquier cesión o transferencia hecha por-el Arrendador de conformidad a lo previsto\n",
      "en esta cláusula, no modificará en forma alguna los derechos y obligaciones del Arrendatario bajo el presente Arrendamiento Maestro, ni incrementará en forma alguna, las cargas o riesgos impuestos al Arrendatario. En el caso de una cesión y/o transferencia, toda referencia hecha al Arrendador dentro del presente, incluirá al Cesionario.\n",
      "DÉGIMA QUINTA. CESÍON O SUBARRENDAMIENTO POR EL ARRENDATARIO\n",
      "El Arrendatario no podrá ceder ni de manera alguna disponer de la totalidad o cualquiera de sus derechos u obligaciones bajo :el presente Arrendamiento Maestro y/o los. Anexos de Arrendamiento, ni ser parte en cualquier subarrendamiento.del Equipo.o de cualquier parte del mismo, sin el previo consentimiento por escrito del Arrendador, Lo anterior aplica con excepción de que el subarrendamiento sea a favor de «alguna de las empresas del propio grupo empresarial. En cuanto a cualquier cesión o subarrendamiento permitido conforme a lo anterior, deberán aplicarse las siguientes condiciones:\n",
      "a) El Equipo no podrá ser reubicado fuera de México.\n",
      "b) Una vez que el subarrendamiento haya sido autorizado; el Arrendatario deberá notificar por «escrito «al Arrendador el nuevo Lugar de Ubicación del Equipo y la. identidad' del subarrendatario correspondiente (el. \"Subarrendatario\"), treinta (30) días naturales antes de que el Equipo se instale. en la localidad del correspondiente Subarrendatario.\n",
      "15/19\n",
      "\n",
      "|Page 16\n",
      "\n",
      "c) Ningún subarrefidamiento o cesión tendrá como consecuencia la subrogación del Subarrendatario en los derechos y obligaciones. del Arrendatario ni disminuirá de manera alguna el cumplimiento de lás obligaciones asumidas por el Arrenidatario bajo el Arrendamiento Maestro o cualquiera de sus Anexos de Arrendamiento.\n",
      "d) “Todo subárrendamiento o cesión deberá estar expresamente sujeto y subordinado a los términos y condiciones del presente Arrendamiento Maestro y el Anexo de Arrendamiento correspondiente y deberá contener el: reconocimiento por parte del Subarrendatario de la existencia de este Arrendamiento Maestro y los Anexos de Arrendamiento y de las facultades del Arrendador de hacer cumplir los términos y condiciones de dichos documentos; los términos y condiciones del documento que instrumente el subarrendamiento y/o cesión de que se trate, deberán someterse a la aprobación del Arrendador, y el Arrendatario deberá ceder todos :sus derechos conforme al mismo'en favor del. Arrendador como garantía adicional del cumplimiento de.sus obligaciones bajo el presente.\n",
      "e) El Arrendatario pagará en “su caso los gastos legales que se originen por cel subarrendamiento y/o la cesión que le'sea autorizada, previa comprobación de dichos gastos por parte del Arrendador.\n",
      "DÉCIMA SEXTA. GRAVÁMENES SOBRE EL EQUIPO\n",
      "El Arrendatafio mo podrá, directa o indirectamente, constituir, imponer, asumir o permitir la constitución, existencia o imposición de cualquier Gravamen sobre o. con respecto a este Arrendamiento. Maestro, cualquier Anexo de Arrendamiento; el Equipo, la propiedad o cualquier derecho relacionado al Equipo. Por lo tanto, el Arrendatario, por cuenta propia y a su costo, se obliga a liberar al Equipo de cualquier Gravamen.que sea constituido o impuesto por cualquier.tercera, salvo que se origine por causas. imputables al Arrendador.\n",
      "DÉCIMA SEPTIMA. ALTERACIONES Y MODIFICACIONES AL EQUIPO\n",
      "El Arrendatarío se obliga a no hacer modificaciones, alteraciones o: adiciones al Equipo (distintas a los accesoriós y controles normales de operación), sin el previo consentimiento por escrito del Arrendador. En caso de que dichas modificaciones, alteraciones o adiciones al Equipo fueren autorizadas por el Arrendador, el Arrendatario tendrá el derecho de adquirir e instalar, por su cuenta y gasto, cualesquiera. características -u opciones «adicionales (las \"Modificaciones\"), siempre que éstas (i) no cambien la función original o el uso del Equipo:en el que se instalen, (ii) no se requiera remover cualquier parte del Equipo para su instalación, (iii) no interfieran con la capacidad del Arrendatario para obtener y mantener el contrato de mantenimiento referido en la Cláusula Séptima del presente, y (iv) su adición al Equipo no tenga un impacto adverso o hegativo en el valor del Equipo o'an los derechos del Arrendador sobre el mismo. Cualesquiera Modificaciones del Equipo que no sean removidas pasarán a ser propiedad del Arrendador. Todas las Modificaciones deberán calificar para efectos del contrato de mantenimiento del fabricante, proveedor o constructor del Equipo o de cualquier distribuidor autorizado, y deberán ser mantenidas conforme a lo establecido por la cláusula Séptima del presente\n",
      "DÉCIMA OCTAVA. AVISOS Y DOMICILIOS\n",
      "Cualquier aviso que deba de hacerse conforme al presente Arrendamiento Maestro y/o los Anexos de Arrendamiento, deberá.ser enviado mediante. mensajero, mensajería especializada o por cualquier otro medio que requiera la firma o reconocimiento de la parte destinataria. Dichas notificaciones deberán ser enviadas «a los: domicilios de las partes que: a continuación se mencionan, .o a cualesquiera otros domicilios que las partes especifiquen mediante aviso por escrito hecho de conformidad a lo establecido en esta Cláusula, y se considerará dado.en la fecha de recepción del mismo 'o tres (3) días naturales después de la fecha de :envío del mismo, lo que: ocurra primero.\n",
      "Para'el Arrendador:\n",
      "16119\n",
      "\n",
      "|Page 17\n",
      "\n",
      "Av: Circunvalacion No. 1471\n",
      "\n",
      "Piso 6,\n",
      "Col. Lomas del Country\n",
      "Guadalajara, Jal. 44610\n",
      "Tel (33) 3563 8383\n",
      "Para el Arrendatario:\n",
      "CRANE SUPPLIES.SERVICES S.A. de C.V.\n",
      "CALLE NAYARIT 102 B ALTOS, COL GUADALUPE, TAMPICO, TAMAULIPAS, CP 89120 CONTABILIDADO:CRANESS.COM.MX\n",
      "Para el Obligado Solidario: OSCAR ALBERTO ISLAS MENDOZA NARANJO 600, COL ALTAVISTA, TAMPICO, TAMAULIPAS, CP 89240\n",
      "Para el Depositario: OSCAR ALBERTO ISLAS MENDOZA NARANJO 600, COL ALTAVISTA, TAMPICO, TAMAULIPAS, CP 89240,\n",
      "DÉCIMA NOVENA. SOFTWARE\n",
      "El Arrendatario y el Arrendador reconocen que el Equipo puede contener o incluir una descripción de ciertos programas de cómputo (el “Software\") cuyos derechos de propiedad. intelectual no le corresponden ni al Arrendatario ni al Arrendador. Cuando sea requerido por el titular de los derechos.de propiedad ¡intelectual del Software, él fabricante o el distribuidor «del mismo, el Arrendatario «deberá celebrar los contratos de licencia u otros contratos requeridos para obtener el derecho de uso de. dicho Software.\n",
      "Cualquier contrato de licencia del. Software será: celebrado por separado y será distinto al presente Arrendamiento Maestro y cualquiera de sus Anexos de Arrendamiento, y el Arrendador no tendrá ninguna. obligación conforme a los mismos, sin embargo, tendrá el derecho de requerir al Arrendatario que dé. par terminado-el uso del Software en. caso de que se presente un Evento de Incumplimiento y el mismo continúe sin remediarse. conforme al presente. En caso de: que la Renta establecida .en un Anexo de Arrendamiento incluya alguna cantidad atribuible al financiamiento por parte del Arrendador al Arrendatario respecto de honorarios de: licencia por el uso del Software, el Arrendatario conviene enque dicha cantidad será considerada como Renta, y estará sujeta:a todas las disposiciones del presente Arrendamiento Maestro.\n",
      "VIGÉSIMA. MORA\n",
      "En caso de faltá de pago oportuno de cualquier cantidad que deba ser pagada por el Arrendatario de conformidad con el presente contrato y los Anexos de Arrendamiento, éste pagará. al Arrendador intereses moratorios sobre las cantidades vencidas y no pagadas, a una tasa de tres (3%) por ciento mensual, computados desde. la fecha de vencimiento respectivo hasta la fecha de pago efectivo, sin perjuició.del derecho que tendrá el Arrendador de rescindir-el presente contrató o exigir el cumplimiento forzoso: del mismo.\n",
      "VIGÉSIMA PRIMERA. CONFIDENCIALIDAD\n",
      "Toda información impresa, verbal, audiovisual o de cualquier otra forma que pudiese revestir el carácter de documento que “El Arrendatario” le proporcione a \"El Atrendador”, o. que este obtenga en cumplimiento del presente contrato, es estrictamente Confidencial, prohibiéndose toda información «a terceros con cualquier carácter, sin la. debida: autorización. para tal fin de parte del primeró. Salvo que se trate de información necesaria para el cumplimiento de-este contrato.\n",
      "VIGÉSIMA SEGUNDA. HONORARIOS DE ASESORES LEGALES\n",
      "En caso de cualquier acción legal en relación con el presente Arrendamiento Maestro. o cualquier Anexo de Arrendamiento, la parie:en cuyo favor prevalezca. la acción tendrá derecho de recuperár la cantidad de-los honorarios y gastos de sus asesores legales.\n",
      "VIGÉSIMA TERCERA, IDIOMA\n",
      "17/19\n",
      "\n",
      "|Page 18\n",
      "\n",
      "Este Arrendamiento Maestro, los Anexos de. Arrendamiento, el Certificado de Aceptación y otros documentos se celebran en idioma español para conveniencia de las partes,\n",
      "VIGÉSIMA CUARTA. OBLIGADO SOLIDARIO\n",
      "De conformidad con to establecido por tos Artículos 1987, 1988- y (1989 del Código Civil, el (los) Obligado(s). Solidarios) conviene(n) incondicionalmente. a ser solidaria y [Mmancomunadamente responsable(s) por el cumplimiento de todas y cada una: de las obligaciones asumidas por el Arrendatario bajo. el presente Arrerrdamiento Maestro. y en cada Anéxo-de Arrendamiento; incluyendo, sin limitación alguna, él pago de todas las cantidades debidas al Arrendador o su Cesionario.\n",
      "VIGESIMA QUINTA: — DEPOSITARIO\n",
      "OSCAR ALBERTO. ISLAS MENDOZA se considerará que detenta la posesión material derivada de los bienes muebles arrendados respectivamente a su entera conformidad, tendiendo .el carácter de “DEPOSITARIO” y solamente podrá utilizarlos para él uso que, a la fecha, tienen los mencionados bienes muebles, :en el entendido dé que OSCAR ALBERTO ISLAS MENDOZA será(n) el(los) único(s) responsable(s) ante terceros por lo que “ve al uso, permisos, licencias y autorizaciones de las autoridades administrativas correspondientes, así como por posibles contravenciones a las leyes de la materia, pago de derechos, gastos, honorarios, multas, posibles daños que se pudiesen ocasionar a terceros por el uso de los bienes muebles arrendados y bajo ningún motivo o circunstancia podrá ser exigida responsabilidad alguna por dichos conceptos, al “ARRENDADOR”. Queda expresamente prohibido a OSCAR ALBERTO ISLAS MENDOZA , bajo causal de incumplimiento, derivar ése uso o. usufructuarlo en forma alguna no autorizada por:el “ARRENDADOR”, estando por lo tanto prohibido su entrega a'un tercero, en comodato o bajo. cualquier otra figura que permita que un tercero entre en posesión derivada de.todo 'o en parte de los bienes muebles-arrendados, así como. el que se puedan otorgar-en garantía .bajo ningún concepto.\n",
      "Como. consecuencia de la posesión material y derivada que detentará de manera precaria. OSCAR ALBERTO ISLAS MENDOZA., en su carácter de “DEPOSITARIO” respecto de los bienes muebles arrendados, será(n) a:su cargo, sin derecho a reembolso alguno, todos los gastos necesarios para su debida conservación, reparación y administración. Al quedar OSCAR ALBERTO ISLAS MENDOZA, en posesión material de los bienes muebles arrendados como “DEPOSITARIO”, acepta(n) ejercer el cargo, manifestando que lo. realizará(ri) en forma honoríficá.en su propio interés, asi mismo éstos declaran conocer-y estar conscierite(s) del contenido y alcance de lás disposiciones legales aplicables relativas a la posesión y depósito de bienes, por lo qué para fines de su responsabilidad. civil y penal correspondientes, ño podrá(n) transmitir, gravar o afectar la propiedad o posesión del mismo,..en términos distintos a los previstos en la ley y en este Contrato, ni tampoco podrá sustraer: sus componentes o desgastarlos fuera de su uso normal, o por alguna razón, disminuir intencionalmente el valor de los mismos. Las partes convienen.que la contravención a lo aquí pactado traerá como consecuencia el ejercicio de una acción de incumplimiento.\n",
      "Sin perjuicio de lo estipulado en la presente cláusula, OSCAR ALBERTO ISLAS MENDOZA, tendrá(n) la obligación de devolver la- posesión de los bienes mueblas arrendados, cuando se les requiera por parte del “ARRENDADOR” en un término que no excederá de 48 cuarenta y. ocho horas contadas a partir de la fecha en que se les requiera la entrega de la mencionada posesión de aquellos. Para. el caso de que OSCAR ALBERTO. ISLAS MENDOZA no entreguea(n) la posesión material de los bienes muebles, dentro del plazo señalado anteriormente, .con independencia de la. responsabilidad penal en que incurra, se le(s) aplicará una Pena Convencional equivalente al 3% tres. porciento mensual del valor que en su conjunto importen [os bienes muebles arrendados, en la fecha en que se trate.\n",
      "Convienen las partes de manera expresa, para los efectos señalados en la presente cláusula y en este Contrato, y en casó de que se llegase a generar la Pena Convencional estipulada anteriormente, ésta se'sumará y formará parte integrante dela “Renta”, para'todos los efectos legales. a que haya lugar.\n",
      "VIGÉSIMA SEXTA. — LEGISLACIÓN Y JURISDICCIÓN APLICABLE\n",
      "El presente Arrendamiento Maestro se interpretará de conformidad-y se regirá por las-leyes de México. En este acto, las partes expresamente se someten a la jurisdicción.de los tribunales competentes en la ciudad de Guadalajara Jalisco y/o Ciudad de México, y/o Estado de México, y/o Monterrey Nuevo León yío Querétaro, Querétaro a elección de Arrendador, renunciando a cualquiera otra jurisdicción que pudiera corresponderles por cualquier razón.\n",
      "18/19\n",
      "\n",
      "|Page 19\n",
      "\n",
      "Leído que fue por las partes el presente contrato, se firma en cuatro ejemplares en la Ciudad de Guadalajara, Jalisco, el 29 de septiembre de 2022.\n",
      "ARRENDADOR AB8.C LEASING DE MEXICO, S.A.P.I.\n",
      "ENRIQUE ROMERO GONZÁLE Cargo: Apoderados Legales Fecha: 29 de septiembre de 2022\n",
      "ARRENDATARIO\n",
      "CRANE SUPPLIES SERVICES S.A. de C.V.\n",
      "SOLIDARIO\n",
      "OSCAR ALBERTO ISLAS MENDOZA\n",
      "“La presente hoja forma parte integrante del Contrato Maestro de Arrendamiento de Bienes Muebles identificado con el número AP000000718 de fecha 29 de septiembre de 2022, celebrado entre AB4C LEASING DE MEXICO, S.A.P.I. DE C.V. y CRANE SUPPLIES SERVICES S.A. de C.V.”\n",
      "19/19\n",
      "\n",
      "|Page 20\n",
      "\n",
      "ANEXO A\n",
      "ANEXO DE ARRENDAMIENTO NO. 001 AL ARRENDAMIENTO MAESTRO DE EQUIPO NO. APO00000718 DE FECHA 29 de septiembre de '2022 ENTRE AB8€ LEASING DE MEXICO, S.A.P.l. DE C.V. COMO EL (“ARRENDADOR”) Y CRANE SUPPLIES SERVICES S.A. «de C.V, REPRESENTADA POR OSCAR ALBERTO ISLAS MENDOZA COMO EL (ARRENDATARIO”). POR OTRA: PARTE EN LO PERSONAL Y POR SU PROPIO DERECHO OSCAR ALBERTO ISLAS MENDOZA (COMO “EL OBLIGADO SOLIDARIO”), POR ULTIMO EN LO PERSONAL Y POR SU PROPIO DERECHO OSCAR ALBERTO ISLAS MENDOZA (COMO \"EL DEPOSITARIO”.\n",
      "ARRENDATARIO\n",
      "CRANE SUPPLIES SERVICES S.A. de C.V:\n",
      "UBICACIÓN DEL EQUIPO NUEVO PUERTO INDUSTRIAL ALTAMIRA. S/N, PUERTO INDUSTRIAL TAMAULIPAS, ALTAMIRA, TAMAULIPAS CP 89600.\n",
      "SECCION J-- DESCRIPCION DEL EQUIPO Y TERMINOS\n",
      "NOMBRE DE PROVEEDOR: CRANE SUPPLIES SERVICES S.A. de C.V.; NUMERO DE FACTURA: 667; FECHA DE FACTURA: 27/09/2022; FOLIO — FISCAL: 1DCD6B71-8D4D-4231-A78E-C9E3D9A3FC82; MARCA: CATERPILLAR; DESCRIPCION DEL ACTIVO: CARGADOR FRONTAL DE ACCIONAMIENTO HIDRAULICO MONTADO SOBRE RUEDAS, USADO Y PEDIMENTO NUMERO.- 22 34 3803 -2001554, EN CIUDAD MIGUEL ALEMAN, TAMAULIPAS. MARCA: CATERPILLAR MODELO: 950G SERIE: CCATO950GTAXX02079 AÑO..2006.\n",
      "DE ACUERDO CON LA FACTURA(S) ANTES MENCIONADA(S).\n",
      "5'PAGOS DE 25,000.00 VEINTICINCO MIL PESOS 00/100 M.N..MAS IMPUESTO AL VALOR AGREGADO (IVA)\n",
      "31 PAGOS DE 91,870.00. NOVENTA Y UN MIL OCHOCIENTOS SETENTA PESOS 00/100 M.N. MAS IMPUESTO. AL VALOR AGREGADO (IVA)\n",
      "1 PAGOS DE 102,833.25 CIENTO DOS MIL'OCHOCIENTOS TREINTA Y TRES PESOS 25/100 M.N. MAS IMPUESTO AL VALOR AGREGADO (IVA)\n",
      "DE. ACUERDO A LA TABLA SIGUIENTE: l_ Paco [| ______FeEcHA |  GANTIDAD |] [2 | o1deNoviembrede2022 |  $25.000,00 |\n",
      "o 01 de ETA del 2022 $25 000.00 | iderEnerode 2023 + 2500000 —\n",
      "116\n",
      "\n",
      "|Page 21\n",
      "\n",
      "01 de Marzo de 2023 $91,870.00\n",
      "INMI ZRII\n",
      "01 de Mayo de 2023 | $o1e7o.00 0] 1 de Julio de 2023 —T—$orezo.oo | 1271 ee septiembre de 202 [13 64 de Octubre de 2023 | $e1ezo.oo | 1401 de Noviembre de 2023 | $e187o.00 [15 — 01 depiciembre de 2023 [591,870.00 | 160 de Enero de 2024 | $o1s7o.oo | 171 de Febrero de 2024—|$otaro.oo | 18] — 01 de Marzo de 2024 | so1ero.oo | 2001 de Mayo dee 2024 | gorero.oo | 10 de Junlo de 2024 | sorero.oo | TT 01 de Julio de 2024 | gerero.oo | 301 de Agosto de 2024 | $orszo.oo | [24 [01 de Septiembre de 2024 | —$91,870.00 | as] 01 de Octubre de 2024 —T $or.aro.oo | 2601 de Noviembre de 2024 | so1azo.oo | 38 01 de Enero de 2028 | sorero.oo | 3 04 de Abril e 2025 | sorjero.oo | 3301 de Junio de 2025 —[—sorazo.oo | 4] 01 de Julio de 2025 | $e1j87o.00 | 5 Tot de Agosto de 2025 | sorezo.oo |\n",
      "A. PLAZO BASICO:37 MESES\n",
      "RENTA: $3,075,803.25 (TRES MILLONES SETENTA Y CINCO MIL OCHOCIENTOS TRES PESOS 25/100 M.N.)\n",
      "B. CUENTA BANCARIA.\n",
      "BENEFICIARIO: ABE£C LEASING DE MEXICO, S.4.P,l, DE CV.\n",
      "BANCO:\n",
      "FINANCIE 01 ¡VERL\n",
      "UENTA BANCARIA:\n",
      "CLABE INTERBANCARIA: 044180001041342479 MONEDA: lo Feos  __ |]\n",
      "a]\n",
      "€. FECHA DE INICIO: 29 de septiembre de 2022\n",
      "2/6\n",
      "\n",
      "|Page 22\n",
      "\n",
      "SECCION Il\n",
      "\n",
      "TERMINOS Y CONDICIONES ESPECIALES.\n",
      "A. ENTREGA E INSTALACION: EL ARRENDADOR DEBERA ARREGLAR LA ENTREGA E INSTALACION DEL EQUIPO, INCLUYENDO EL APAREJO, SEGURO DE TRANSITO, COSTOS DE TRANSPORTACION E INSTALACION, LA TOTALIDAD DE DICHOS GASTOS SERAN SOBRE FACTURA, PAGADOS PRONTAMENTE POR EL ARRENDADOR. EL LUGAR DE DEVOLUCION SERA EN EL DOMICILIO DEL ARRENDADOR.\n",
      "LOS TERMINOS Y CONDICIONES DE ESTE ARRENDAMIENTO MAESTRO SON, EN ESTE ACTO, INCORPORADOS Y FORMAN PARTE DEL PRESENTE, COMO SI DICHOS TERMINOS Y CONDICIONES ESTUVIESEN TOTALMENTE PREVISTOS EN EL PRESENTE.\n",
      "ARRENDADOR AB8.C LEASING DE MEXICO, S/A.P.I. Dj\n",
      "PABLO ENRIQUE RÓMERO GONZÁLE. Cargo: Apoderado(s) Legal(es) Fecha: 29 de septiembre de 2022\n",
      "ARRENDATARIO CRANE SUPPLIES SERVICES S.A. de C.V.\n",
      "Nombre: OS TO ISLAS MENDOZA Cargo: Apóderado(s) Legal(es) Fecha: 29 dé septiembre de 2022\n",
      "OBLIGADO SOLIDARIO\n",
      "OSCAR ALBERTO ISLAS MENDOZA\n",
      "3/6\n",
      "\n",
      "|Page 23\n",
      "\n",
      "DEPOSITARIO\n",
      "OSCAR ALBERTO ISLAS M\n",
      "4/6\n",
      "\n",
      "|Page 24\n",
      "\n",
      "ANEXO B\n",
      "ANEXO DE ARRENDAMIENTO NO. 001 (CERTIFICADO DE ACEPTACION) AL ARRENDAMIENTO MAESTRO DE EQUIPO NO. .AP000000718 DE FECHA 29 de septiembre de 2022 ENTRE AB3.C LEASING. DE MEXICO, S.A.P.I. DE.C.V. (“ARRENDADOR”) Y CRANE SUPPLIES SERVICES S.A. de C.V. REPRESENTADA POR OSCAR ALBERTO ISLAS MENDOZA COMO EL (“ARRENDATARIO”). POR OTRA PARTE EN LO PERSONAL Y POR SU PROPIO: DERECHO OSCAR ALBERTO ISLAS MENDOZA (COMO “EL OBLIGADO SOLIDARIO”), POR ULTIMO EN LO PERSONAL Y POR SU PROPIO. DERECHO OSCAR ALBERTO ISLAS MENDOZA (COMO “El. DEPOSITARIO”).\n",
      "ARRENDATARIO\n",
      "CRANE SUPPLIES SERVICES S.A. de C.V.\n",
      "UBICACIÓN DEL EQUIPO NUEVO PUERTO INDUSTRIAL ALTAMIRA. S/N, PUERTO INDUSTRIAL TAMAULIPAS, ALTAMIRA, TAMAULIPAS CP 89600\n",
      "DE ACUERDO CON EL ANEXO ARRIBA REFERIDO Y EL ARRENDAMIENTO MAESTRO, EL ARRENDATARIO, EN ESTE ACTO, CERTIFICA QUE EL EQUIPO DESCRITO EN EL ANEXO Y A CONTINUACION, HA SIDO ENTREGADO E INSTALADO EN LA UBICACION DEL ARRENDATARIO DESCRITA EN. EL PRESENTE DOCUMENTO; HA: SIDO INSPECCIONADO POR REPRESENTANTES AUTORIZADOS DEL ARRENDATARIO, SE HA ENCONTRADO EN BUEN ESTADO Y CONDICIONES DE TRABAJO Y ES ACEPTADO\n",
      "POR EL ARRENDATARIO INCONDICIONALMENTE COMO EQUIPO BAJO EL.ANEXO EN LA(S) FECHA(S) SEÑALADAS A CONTINUACION: 29 de septiembre dé 2022\n",
      "NOMBRE DE PROVEEDOR: CRANE SUPPLIES SERVICES S.A. de C.V.; NUMERO DE\n",
      "FACTURA: — 0667; FECHA DE FACTURA: — 27/09/2022; FOLIO FISCAL: 1DCD6B71-8D4D-4231-A78E-C9E3D9IABFC82; MARCA: CATERPILLAR; DESCRIPCION DEL ACTIVO: CARGADOR. FRONTAL DE ACCIONAMIENTO HIDRAULICO MONTADO SOBRE RUEDAS, USADO Y PEDIMENTO NUMERO.- 22 34 3803 2001554, EN CIUDAD. MIGUEL ALEMAN, TAMAULIPAS. MARCA: CATERPILLAR MODELO: 950G SERIE: CATO950GTAXX02079 AÑO. 2006.\n",
      "DE ACUERDO CON LA FACTURA(S) ANTES MENCIONADA(S).\n",
      "5 PAGOS DE.25,000.00 VEINTICINCO MIL PESOS 00/100 M.N. MAS IMPUESTO AL VALOR AGREGADO (IVA)\n",
      "31 PAGOS DE 91;870.00 NOVENTA Y UN MIL OCHOCIENTOS SETENTA PESOS 00/100 M.N. MAS IMPUESTO. AL VALOR AGREGADO (IVA)\n",
      "1 PAGOS DE 102,833.25 CIENTO DOS MIL OCHOCIENTOS TREINTA Y TRES PESOS 25/100 M.N. MAS IMPUESTO AL VALOR. AGREGADO (IVA)\n",
      "5/6\n",
      "\n",
      "|Page 25\n",
      "\n",
      "ARRENDATARIO CRANE SUPPLIES SERVICES S.A. de C.V.\n",
      "7\n",
      "OBLIGADO SOLIDARIO\n",
      "OSCAR ALBERTO ISLAS MENDOZA\n",
      "DEPOSITARIO\n",
      "OSCAR ALBERTO ISLAS MENDOZA\n",
      "“La presente hoja forma parte integrante del Contrato Maestro de Arrendamiento de Bienes Muebles identificado con el número APO00000718 de fecha 29 de septiembre de 2022, celebrado entre AB4C LEASING DE MEXICO, S.A.P.I. DE C.V. y CRANE SUPPLIES SERVICES S.A. de C.V.”\n",
      "6/6\n",
      "\n",
      "|Page 26\n",
      "\n",
      ", NN E le. Hei 2. CVélaseo Galeno CORREDOR PUBLICO NO, 1 D.P.J.\n",
      "(Fexlatario Mercantó).\n",
      "GUADALAJARA, JAL,\n",
      "ACTA NÚMERO:\n",
      "+ Yo LIC, ROCÍO A, VELASCO GALINDO, Corredor Público. Número 1 UNO de Guadalajara, Jal., habilitada -en todas las clases,. autorizada por el Ejecutivo del Estado y conforme al artículo 67 sesenta y siete, último párrafo del Código de Comercio: - == ==%==--= CERTIFIC O. Que ante mí ocurre por una parte “AB8C LEASING DE MEXICO”, SOCIEDAD ANÓNIMA PROMOTORA DE INVERSIÓN DE CAPITAL VARIABLE, representada por el Sr, MARÍA ISABEL BOLIO MONTERO, quien se identifica con Registro Federal de Contribuyentes BOMI7301178Y4 (B,O,M,!l, siete, tres, cero, uno, Uno, siete, ocho, Y, cuatro) y por el Sr. PABLO ENRIQUE ROMERO GONZÁLEZ quieñ se identifica con Registro Federal de Contribuyentes ROGP7410144J3 ( R,-O, G, P, siete, cuatro, uno, cero, uno, cuatro, cuatro, J, tres ), quieñes me acreditan la legal existencia de su representada, mediante la Escritura Pública 20,302 veinte mil trescientos dos de fecha 8 ocho de Octubre de 1999 mil novecieritos noventa y nueve, otorgada ante la fe del Lic. Alejandro: E. Del Valle Palazuelos, Corredor Público No. 149 ciento cuarenta y nieve del Distrito Federal, cuyo primer testimonio quedó debidamente inscrito en el Registro Público de Comercio del Distrito Federal bajo el Folio Mercantil No. 257016 doscieritos cincuenta y siete mil dieciséis, el 16 dieciséis de noviembre de 1999 mil novecientos noventa y nueve. Mediante Escritura No.\n",
      "53,174 cincuenta y tres mil ciento setenta y cuatro de fecha 6 seis de junio de 2005 dos mil cinco, otorgada ante la fe del Lic. Roberto Núñez y Bandera, Notario Público No: 1 uno. del Distrito Federal, se protocolizó:el Acta de Asamblea General de Accionistas de fecha 6 seis de junio del 2005 dos mil cinco, en la cual se acordó cambiar la denominación social por la de AB4C Leasing de México, S.A. de C:V., y tuyo testimonio. quedó debidamente inscrito en el Registro Público de Comerció del Disttito Federal bajo el Folio Mercantil No. 257018 doscientos cincuenta y siete mil dieciséis de fecha 22 veintidós de agosto del 2005 dos mil cinco, Mediante Escritura Pública No. 55,344. cincuenta y cinco mil trescientos cuarenta y cuatro de fecha 30 treinta de Agosto del 2006 dos mil seis, otorgada ante la fe. del Lic. Roberto Nuñez y Bandera, Notario titular N* 1 uno de. México, Distrito Federal, se protocolizó el Acta de Asamblea: General Extraordinaria dé Accionistas de fecha 15 quince de Junio del 2006 dos mii seis, en la cual se acordó cambiar el domicilio social a la Ciudad de Guadalajara, Jalisco, cuyo primer testimonio quedó debidamente inscrito en -el Registro Público de Comercio de Guadalajara, Jal. bajo el Folio: Mercantil Electrónico No. 39918*1 treinta y. nueve mil novecientos dieciocho. asterisco uno. Mediante Escritura Pública número 34,501 treirita y cuatro mil.\n",
      "quinientos uno, de fecha 20 veinte de octubre del 2011 dos mil once, otorgada ante la fe del Licenciado Humberto Gascón Orozco, Notario Público número 5 de Tlaquepaque Jalisco. Se “protocoliza la Asamblea General Extraordinaria-de Accionistas de fecha 31 treinta y uno.de agosto del:2011 dos mil once, en la cual se acordó cambiar la denominación social por la de. AB8C Leasing de México, Sociedad Anónima Promotora de: Inversión de Capital Variable, Mediante acta: número 250 doscientos cincuenta, de fecha 20 veínte de marzo de 2020 dos mil veinte, otorgada ante ta fe del Licenciado Francisco Jávier Acevedo Macari, Notario Público número (67 sesenta y siete del estado de Mérida, Yucatán, se protocolizaron las resoluciones unánimes: de accionistas de AB8C Leasing de México, S.A.P.I. de C.V. consistentes en la ratificación de ta celebración del Contrato de Compraventa de Acciones, la ratificación de la trasmisión de la Titularidad de las Acciones Representátivas del Capital Social de: la Sociedad, reforma de estatutos sociales de la sociedad, incluyendo el Cambio de Domicilio Social y Cancelación de Titulos Accionarios, así como la reclasificación y ratificación del Capital Social de la Sociedaa, la renuncia y designación de funcionarios, miembros del Consejo de Administración y Comités de la Sociedad y la revocación y otorgamiento de\n",
      "\n",
      "|Page 27\n",
      "\n",
      "Die. Decio E Dbasea Galerie CORREDOR PUBLICO NO; 1 D,P.J,\n",
      "[Fextatarto Mercantá)\n",
      "GUADALAJARA, JAL.\n",
      "poderes por la Sociedad, por mencionar algunos, cuyo primer testimonio se encuentra en trámite de inscripción ante el Registro Público de la Propiedad y de Comercio. LA SEÑORA MARIA ISABEL BOLIO MONTERO acredita. su. personalidad mediante escritura Pública no. 33, del 21 de enero de 2022, ante la fe de'la Not, 67 del Edo. De Yucatán, Abog. Francisco Javier Acevedo Macari, inscrito.en el Registro Público ide la Propiedad y del Comercio de Mérida, Yucatán bajo el Folio Mercantil Electrónico N.-202002667 EL SEÑOR PABLO ENRIQUE ROMERO GONZALEZ acredita su personalidad mediante escritura Pública no. 33, del 21 de enerode 2022, ante la fe de la Not, 67 del Edo, De Yucatán, Abog. Francisco Javier Acevedo Macari, inscrito en el Registro Público. de la Propiedad y del Comercio de Mérida, Yucatán bajo el Folio Mercantil Electrónico N.-202002687. Por. sus generales manifiestaron ser La ciudadana MARÍA ISABEL BOLIO MONTERO quien manifiesta ser casada, Licenciada en Derecho, «nacida en Mérida, Yucatán, de cuarenta y nueve años de edad; nacida el día diecisiete de enero de mil novecientos: setenta y tres con domicilio en el predio número doscientos cuatro letra A de la calle veintidós Colonia Garcia Gineres de esta ciudad, con Código Postal noventa y siete.\n",
      "mil cero setenta, con Registro Federal de Contribuyentes BOMI7301178Y4 (B,O,M,1, siete, tres, cero, uno, uno, siete, ocho, Y, cuatro), y con Clave Única de Registro de Población BOMI730117MYNLNS01 (B;O,M,], siete, tres, cero, uno, uno, siete, M, Y, N, L, N, S, cero, uno).. El ciudadano PABLO ENRIQUE ROMERO GONZALEZ quien manifiésta ser casado, Licenciado en Derecho. , de cuarenta y siete años de edad, nacido en esta ciudad el día catorce de octubre de mil novecientos setenta y cuatro, casado, con domicilio en -Privada Punta Lago lote catorce tablaje treinta mil dieciséis, Tixcuytun, Código Postal noventa y siete-mil trescientos en la ciudad de Mérida, Yucatán, con Registio Federal de Contribuyentes ROGP741014433 ( R, O, G, P, siete, cuatro, uno, cero, uno, cuatro, cuatro, J, tres ), y con Clave Única de Registro de- Población ROGP741014HYNMNBO3 (R, O, G, P, siete, cuatro, uno, cero, uno, cuatro, H, Y, N, M, N, B, cero, tres).. En lo sucesivo como “EL ARRENDADOR”.= == === t=oemmmnno=---\n",
      "Por otra parte, la empresa: CRANE SUPPLIES SERVICES S.A. de C.V,, en lo sucesivo como “LA ARRENDATARIA”.- === CRANE SUPPLIES SERVICES, SOCIEDAD .ANÓNIMA DE CAPITAL VARIABLE empresa constituida mediante escritura pública. número 13,606 (TRECE MIL SEISCIENTOS SEIS), de fecha 13 (TRECE) DE ENERO DE 2015 (DOS MIL QUINCE), otorgada ante. la fe del Licenclado MARIO PERALES MELENDEZ, Notario Público número 11 (ONCE) en ejercicio de la Ciudad de TAMPICO, TAMAULIPAS y cuyo testimonio se encuentra inscrito bajo el folio mercantil electrónico número: 14252*6 (UNO, CUATRO, DOS, CINCO, DOS, ASTERISCO, SEIS).en el Registro Público de .la Propiedad y el Comercio del Estado de TAMAULIPAS..- Mediante Escritura Publica número 9,210 (NUEVE MIL DOSCIENTOS DIEZ), de fecha 22 (VEINTIDOS) DE JUNIO DE 2021 (DOS MIL VEINTIUNO), otorgada ante la fe de la Licenciada CAROLINA «GARCIA SEDAS, Notario Público Numero 271 (DOSCIENTOS SETENTA Y UNO) de lá Ciudad de TAMPICO, TAMAULIPAS. Se protocolizó la Asamblea General Extraordinaria de Accionistas de fecha 04 (CUATRO) DE JUNIO DE \"2021 (DOS MIL VEINTIUNO), en la cual se acordó la Modificación al Objeto Social de la Empresa, entre otros acuerdos tomados por la Asamblea.\n",
      "Cuyo testimonio se encuentra inscrito bajo el número 14252 (UNO, CUATRO, DOS, CINCO, DOS) en el Registro Público de la Propiedad y el Comierció de TAMAULIPAS... - === mn El señor OSCAR ALBERTO: ISLAS MENDOZA, acredita su personalidad como ADMINISTRADOR ÚNICO Y/O REPRESENTANTE LEGAL, de la empresa CRANE SUPPLIES SERVICES, SOCIEDAD. ANÓNIMA DE. CAPITAL VARIABLE, mediante Escritura Pública número 13,506 (TRECE MIL SEISCIENTOS SEIS), de fecha 13 (TRECE) DE ENERO\n",
      "\n",
      "|Page 28\n",
      "\n",
      "Dr. Pcia LE Oélrivo Galindo CORREDOR PUBLICO NO, 1 D:P.J\n",
      "(Fedatario Mercantii)\n",
      "GUADALAJARA; JAL,\n",
      "DE 2015 (DOS: MIL QUINCE), otorgada ante la fe del Licenciado MARIO PERALES MELENDEZ, Notario Público:número 11 (ONCE), de la Ciudad: de TAMPICO, TAMAULIPAS y cuyo testimonio quedo registrado bajo folio mercantil electrónico numero 14252*6 (UNO, CUATRO, DOS, CINCO, DOS, ASTERISCO, SEIS) Del Registro Público de la Propiedad y el Comercio en TAMAULIPAS; en donde se le otorgan las facultades de forma INDIVIDUAL para Pleitos y Cobranzas, actos de Administración, así como para suscribir Títulos de crédito. Facultades necesarias y suficientes para la firma del presente instrumento, los. cuales no lé han sido revocados, modificados o limitados en forma alguna.- - «=== === ===========-=%- OSCAR ALBERTO: ISLAS MENDOZA , manifestó ser de. nacionalidad MEXICANA, MAYOR DE.EDAD, EMPRESARIO, Casado por Separación, nacido en TULANCINGO DE' BRAVO, MEXICO el 09 (Nueve) de febrero de 1962 (Mil novecientos sesenta y dos), con domicilio CALLE NAYARIT 102 B ALTOS , COL GUADALUPE, TAMPICO, TAMAULIPAS, CP 89120, DE TRÁNSITO EN ESTA CIUDAD, y quien se identifica con Credencial para votar vigente.con número. 0934053319749 (CERO,. NUEVE, TRES, CUATRO, CERO, CINCO, TRES, TRES, UNO, NUEVE, SIETE, CUATRO, NUEVE), cuya copia se encuentra en el Archivo Oficial que ES A MÍCANQO: o Por otra parte, en lo personal y por su propio derecho El señor OSCAR ALBERTO ISLAS MENDOZA en lo súcesivo como.\n",
      "“ EL OBLIGADO SOLIDARIO ” y quien por sus generales manifesto ser: de: nacionalidad MEXICANA, mayor de edad, EMPRESARIO, Casado. por Separación, nacido. en TULANCINGO DE:BRAVO, MEXICO el 09 (Nueve) de febrero. de 1962 (Mil hovecíeritos sesenta y dos), con domicilio 'en NARANJO 600, COL ALTAVISTA, TAMPICO, TAMAULIPAS, CP 89240, DE TRÁNSITO EN ESTA CIUDAD, y quien se identifica con :el documento Credencial para votar vigente con número 0934053319749 (CERO, NUEVE, TRES, CUATRO, CERO, CINCO, TRES, TRES, UNO, NUEVE, SIETE, CUATRO, NUEVE), cuya copia se:encuentra en el Archivo Oficial que es.a mi\n",
      "Por otra parte, en lo. personal y por su propio derecho-El señor OSCAR ALBERTO ISLAS MENDOZA en lo sucesivo como “ EL DEPOSITARIO ” y quien por.-sus generales manifesto ser: de nacionalidad MEXICANA, mayor de edad, EMPRESARIO, Casado por Separación, nacido en TULANCINGO DE BRAVO, MEXICO el 09 (Nueve) de febrero de 1962 (Mil novecientos. sesenta y dos), con domicilio en. NARANJO 600, COL ALTAVISTA, TAMPICO, TAMAULIPAS, CP 89240, DE TRÁNSITO EN ESTA CIUDAD, y quien se identifica con el documento Credencial para votar vigente. con número 0934053319749 (CERO, NUEVE, TRES, CUATRO, CERO, CINCO, TRES, TRES, UNO, NUEVE, SIETE, CUATRO, NUEVE), cuya copia se encuentra en.el Archivo Oficial que es a Mi Cargo.-=- === ====-“=====--2\n",
      "A Para hacer constar: - ---<- ===“... .-- -— |.- Que para todos los efectos de ley, ratifican: en: este. acto el contenido del CONTRATO MAESTRO DE ARRENDAMIENTO DE BIENES MUEBLES, AP000000718 y su anexo 001 por ser la fiel expresión de SUS VOJUNtades.-- <= «===. -—-J].« Que Reconocen. como suyas las firmas que lo calzan, por haber sidó puesta de su puño y letra y ser la que usan en todos sus actos.- -—---=- ==. -- |1.- Que: tanto ellos. cómo sus representadas tienen capacidad legal para contratar y obligarse. y que su representación no les ha sido. revocada ni limitada en forma alguna, encontrándose por tanto vigenté:a la fecha de la presente ratificación.- Por-lo antes. expuesto,\n",
      "--- PRIMERO. De que la suscrita: Corredor Público conceptúa.a los comparecientes con la capacidad legal para contratar y obligarse, sin encontrar en ellos manifestación evidente de incapacidad natural, ni tengo noticias de que se encuentren sujetos á interdicción.- - - == - ===\n",
      "\n",
      "|Page 29\n",
      "\n",
      "EL. Hoc A “Oalaico Galindo\n",
      "CORREDOR PUBLICO NO, 1 D.P.J. (Fedatario Mercantil) GUADALAJARA, JAL.\n",
      "— SEGUNDO.- De que la personalidad, generales e identificaciones, de los comparecientes\n",
      "acreditadas y descritas en el Capítulo respectivo del Acta, fueron debidamente comprobadas\n",
      "por mi y se dan aquí por reproducidas como si a la letra se insertaran, devolviendo los\n",
      "documentos con lo que lo acreditaron.- - === ============== ===. ---\n",
      "--- TERCERO.- De que los comparecientes ratifican en este acto el contenido del CONTRATO\n",
      "MAESTRO DE ARRENDAMIENTO DE BIENES MUEBLES, AP000000718 y su anexo 001,\n",
      "así como las firmas que lo CalZaN.- === === ========== ===\n",
      "-- CUARTO.- De que una vez protestados para que se conduzcan con verdad me\n",
      "manifestaron que tanto en lo personal como sus representadas se encuentran al corriente en\n",
      "el pago del Impuesto sobre la Renta sin acreditármelo, por lo que les hice las advertencias de\n",
      "LY\n",
      "--- QUINTO. De que leído que fue por los comparecientes esta A C T A y explicado su valor y\n",
      "fuerza de Ley la firman en mi presencia de conformidad con lo en ella expresado, Siendo las:\n",
      "DOY Errar e\n",
      "ARRENDATARIO\n",
      "POSITARIO\n",
      "OSCAR ALBERTO ISLAS MENDOZA\n",
      "Por su fropio derecho\n"
     ]
    }
   ],
   "source": [
    "f = open(file_path,'r')\n",
    "print(f.read())"
   ]
  },
  {
   "cell_type": "markdown",
   "metadata": {},
   "source": [
    "Now the module has parsed the PDF file into a simpler txt file, it's now possible to use our chat assistant to extract information from it."
   ]
  },
  {
   "cell_type": "markdown",
   "metadata": {},
   "source": [
    "# Q&A Module"
   ]
  },
  {
   "cell_type": "markdown",
   "metadata": {},
   "source": [
    "Once the file has been parsed, now we can ask questions about it. Let's first instanciate the module:"
   ]
  },
  {
   "cell_type": "code",
   "execution_count": 1,
   "metadata": {},
   "outputs": [
    {
     "name": "stderr",
     "output_type": "stream",
     "text": [
      "/home/isaid/arkham-api/testing/lib/python3.10/site-packages/tqdm/auto.py:21: TqdmWarning: IProgress not found. Please update jupyter and ipywidgets. See https://ipywidgets.readthedocs.io/en/stable/user_install.html\n",
      "  from .autonotebook import tqdm as notebook_tqdm\n"
     ]
    },
    {
     "data": {
      "text/plain": [
       "True"
      ]
     },
     "execution_count": 1,
     "metadata": {},
     "output_type": "execute_result"
    }
   ],
   "source": [
    "from arkham.QAmodule import QA_assistant\n",
    "from dotenv import load_dotenv\n",
    "import evaluate\n",
    "load_dotenv()"
   ]
  },
  {
   "cell_type": "code",
   "execution_count": 2,
   "metadata": {},
   "outputs": [
    {
     "name": "stdout",
     "output_type": "stream",
     "text": [
      "Embedding on device: cuda\n"
     ]
    },
    {
     "name": "stderr",
     "output_type": "stream",
     "text": [
      "Loading checkpoint shards: 100%|██████████| 2/2 [00:14<00:00,  7.35s/it]\n"
     ]
    }
   ],
   "source": [
    "falcon_tuned = QA_assistant(file_path='for_evaluation.txt',model='Falcon7b-Tuned')\n",
    "#This method should only be executed once, if you want to executed again, restart your kernel\n",
    "falcon_assistant = falcon_tuned.get_querier()"
   ]
  },
  {
   "cell_type": "markdown",
   "metadata": {},
   "source": [
    "As you see, to initialize the QA all you need is pass the txt file and the model of your choice, then all you need is to define your querier in a variable and you're good to go!"
   ]
  },
  {
   "cell_type": "code",
   "execution_count": 3,
   "metadata": {},
   "outputs": [
    {
     "name": "stderr",
     "output_type": "stream",
     "text": [
      "/home/isaid/arkham-api/testing/lib/python3.10/site-packages/transformers/generation/utils.py:1270: UserWarning: You have modified the pretrained model configuration to control generation. This is a deprecated strategy to control generation and will be removed soon, in a future version. Please use a generation configuration file (see https://huggingface.co/docs/transformers/main_classes/text_generation )\n",
      "  warnings.warn(\n",
      "/home/isaid/arkham-api/testing/lib/python3.10/site-packages/bitsandbytes/autograd/_functions.py:322: UserWarning: MatMul8bitLt: inputs will be cast from torch.bfloat16 to float16 during quantization\n",
      "  warnings.warn(f\"MatMul8bitLt: inputs will be cast from {A.dtype} to float16 during quantization\")\n"
     ]
    },
    {
     "data": {
      "text/plain": [
       "'\\nThe file is a contract between an Arrendatario and an Arrendador. The Arrendatario is\\n\\ncontracted to pay the Arrendador a sumary of $100,000.00. The Arrendatario is\\n\\ncontracted to pay the Arrendador a sumary of $100,000.00. The Arrendatario is\\n\\ncontracted to pay the Arrendador a sumary of $100,000.'"
      ]
     },
     "execution_count": 3,
     "metadata": {},
     "output_type": "execute_result"
    }
   ],
   "source": [
    "output = falcon_assistant(\"Give me a sumary of the file\")\n",
    "output['result']"
   ]
  },
  {
   "cell_type": "markdown",
   "metadata": {},
   "source": [
    "You could iterate with the regular Falcon 7b-Instruct or GPT:"
   ]
  },
  {
   "cell_type": "code",
   "execution_count": 2,
   "metadata": {},
   "outputs": [
    {
     "name": "stdout",
     "output_type": "stream",
     "text": [
      "Embedding on device: cuda\n"
     ]
    },
    {
     "name": "stderr",
     "output_type": "stream",
     "text": [
      "Loading checkpoint shards: 100%|██████████| 2/2 [00:13<00:00,  6.99s/it]\n"
     ]
    }
   ],
   "source": [
    "falcon_instruct = QA_assistant(file_path='for_evaluation.txt',model='Falcon7b-Instruct')\n",
    "#This method should only be executed once, if you want to executed again, restart your kernel\n",
    "falcon_assistant = falcon_instruct.get_querier()"
   ]
  },
  {
   "cell_type": "code",
   "execution_count": 3,
   "metadata": {},
   "outputs": [
    {
     "name": "stderr",
     "output_type": "stream",
     "text": [
      "/home/isaid/arkham-api/testing/lib/python3.10/site-packages/transformers/generation/utils.py:1270: UserWarning: You have modified the pretrained model configuration to control generation. This is a deprecated strategy to control generation and will be removed soon, in a future version. Please use a generation configuration file (see https://huggingface.co/docs/transformers/main_classes/text_generation )\n",
      "  warnings.warn(\n",
      "/home/isaid/arkham-api/testing/lib/python3.10/site-packages/bitsandbytes/autograd/_functions.py:322: UserWarning: MatMul8bitLt: inputs will be cast from torch.bfloat16 to float16 during quantization\n",
      "  warnings.warn(f\"MatMul8bitLt: inputs will be cast from {A.dtype} to float16 during quantization\")\n"
     ]
    },
    {
     "data": {
      "text/plain": [
       "'\\nThe file is a contract between an Arrendatario and an Arrendador. The Arrendatario is\\n\\ncontracted to pay the Arrendador a sumary of $100,000.00. The Arrendatario is\\n\\ncontracted to pay the Arrendador a sumary of $100,000.00. The Arrendatario is\\n\\ncontracted to pay the Arrendador a sumary of $100,000.'"
      ]
     },
     "execution_count": 3,
     "metadata": {},
     "output_type": "execute_result"
    }
   ],
   "source": [
    "output = falcon_assistant(\"Give me a sumary of the file\")\n",
    "output['result']"
   ]
  },
  {
   "cell_type": "code",
   "execution_count": 3,
   "metadata": {},
   "outputs": [],
   "source": [
    "gpt_module = QA_assistant(file_path='for_evaluation.txt',model='GPT3.5')\n",
    "#This method should only be executed once, if you want to executed again, restart your kernel\n",
    "gpt_assistant = gpt_module.get_querier()"
   ]
  },
  {
   "cell_type": "code",
   "execution_count": 4,
   "metadata": {},
   "outputs": [
    {
     "name": "stderr",
     "output_type": "stream",
     "text": [
      "Number of requested results 4 is greater than number of elements in index 2, updating n_results = 2\n"
     ]
    },
    {
     "data": {
      "text/plain": [
       "' El Arrendatario debe reintegrar las cantidades erogadas por el seguro contratado por el Arrendador en un plazo de 30 días a partir de la fecha en que sean cubiertos. Si no se cumple con esto, se aplicarán los intereses moratorios establecidos en la cláusula Vigésima posterior.'"
      ]
     },
     "execution_count": 4,
     "metadata": {},
     "output_type": "execute_result"
    }
   ],
   "source": [
    "gpt_assistant('Dame un resumen del texto')"
   ]
  },
  {
   "cell_type": "markdown",
   "metadata": {},
   "source": [
    "Using this outputs, we can get the ROUGE metric for each one:"
   ]
  },
  {
   "cell_type": "code",
   "execution_count": 4,
   "metadata": {},
   "outputs": [],
   "source": [
    "rouge = evaluate.load('rouge')"
   ]
  },
  {
   "cell_type": "code",
   "execution_count": 6,
   "metadata": {},
   "outputs": [
    {
     "data": {
      "text/plain": [
       "{'rouge1': 0.07339449541284404,\n",
       " 'rouge2': 0.0,\n",
       " 'rougeL': 0.07339449541284404,\n",
       " 'rougeLsum': 0.07339449541284404}"
      ]
     },
     "execution_count": 6,
     "metadata": {},
     "output_type": "execute_result"
    }
   ],
   "source": [
    "predictions = [\"\\nThe file is a contract between an Arrendatario and an Arrendador. The Arrendatario is\\n\\ncontracted to pay the Arrendador a sumary of $100,000.00\"]\n",
    "references = [\"De no cumplir el Arrendatario con lo mencionado en el párrafo anterior, el Arrendador contratará el seguro correspondiente por los riesgos que deba amparar y por cualesquiera otros que estime convenientes, por cuenta del Arrendatario, quien deberá. reintegrar las cantidades erogadas por tal concepto en un término que.no excederá de 30 (treinta) días, a partir de la-fecha én que sean cubiertos o de lo contrario se aplicarán los intereses moratorios establecidos en la cláusula Vigésima posterior.\"]\n",
    "results = rouge.compute(predictions=predictions, references=references)\n",
    "results"
   ]
  },
  {
   "cell_type": "code",
   "execution_count": 11,
   "metadata": {},
   "outputs": [
    {
     "data": {
      "text/plain": [
       "{'rouge1': 0.6417910447761195,\n",
       " 'rouge2': 0.4545454545454545,\n",
       " 'rougeL': 0.5223880597014926,\n",
       " 'rougeLsum': 0.5223880597014926}"
      ]
     },
     "execution_count": 11,
     "metadata": {},
     "output_type": "execute_result"
    }
   ],
   "source": [
    "predictions = [\"El Arrendatario debe reintegrar las cantidades erogadas por el seguro contratado por el Arrendador en un plazo de 30 días a partir de la fecha en que sean cubiertos. Si no se cumple con esto, se aplicarán los intereses moratorios establecidos en la cláusula Vigésima posterior.\"]\n",
    "references = [\"De no cumplir el Arrendatario con lo mencionado en el párrafo anterior, el Arrendador contratará el seguro correspondiente por los riesgos que deba amparar y por cualesquiera otros que estime convenientes, por cuenta del Arrendatario, quien deberá. reintegrar las cantidades erogadas por tal concepto en un término que.no excederá de 30 (treinta) días, a partir de la-fecha én que sean cubiertos o de lo contrario se aplicarán los intereses moratorios establecidos en la cláusula Vigésima posterior.\"]\n",
    "results = rouge.compute(predictions=predictions, references=references)\n",
    "results"
   ]
  },
  {
   "cell_type": "markdown",
   "metadata": {},
   "source": [
    "ROUGE, or Recall-Oriented Understudy for Gisting Evaluation is a metric that evaluates the overlap between 2 string chains. In general, the rouge-N refers to the rate of N-grams (chains of word of lenght N) from the measured word chain in the referance chain, i.e.\n",
    "\n",
    "$$\\text{Rouge-N} = \\frac{\\text{\\# N-grams that appear in both word chains}}{\\text{\\# N-grams in baseline word chain}}$$\n",
    "\n",
    "Hence, what the metric measures is the ability to proper sumarize texts and it's perplexity, meaning how much the model deviates from the original text when confronted with complex or long chains.\n",
    "\n",
    "With that said, it's clear that regarding generalization and summarization for this test, the `Falcon7b` has a lot more to improve while the `gpt3.5` model peforms relatively well, considering that the $64\\%$ score is heavely biased by the lenght of the baseline chain. Also notice, that this metric is sentive to language, hence, results based on a more robust dataset may vary."
   ]
  }
 ],
 "metadata": {
  "kernelspec": {
   "display_name": "testing",
   "language": "python",
   "name": "python3"
  },
  "language_info": {
   "codemirror_mode": {
    "name": "ipython",
    "version": 3
   },
   "file_extension": ".py",
   "mimetype": "text/x-python",
   "name": "python",
   "nbconvert_exporter": "python",
   "pygments_lexer": "ipython3",
   "version": "3.10.6"
  },
  "orig_nbformat": 4
 },
 "nbformat": 4,
 "nbformat_minor": 2
}
